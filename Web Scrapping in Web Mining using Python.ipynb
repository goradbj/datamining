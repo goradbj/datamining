{
 "cells": [
  {
   "cell_type": "markdown",
   "metadata": {},
   "source": [
    "### Web scraping using python"
   ]
  },
  {
   "cell_type": "markdown",
   "metadata": {},
   "source": [
    "Web Scrapping vs Data Mining\n",
    "- Web scraping involves extracting mostly text content from a websites. \n",
    "- Just extracting data from websites irrespective of how that data is applied or used is web scraping. \n",
    "- While data mining is the process of discovering information, patterns in datasets that involves different machine learning technologies"
   ]
  },
  {
   "cell_type": "markdown",
   "metadata": {},
   "source": [
    "Is Web scraping legal?\n",
    "- “Web scraping,” also called crawling or spidering, is the automated gathering of data from someone else's website. ... \n",
    "- Although scraping is ubiquitous, it's not clearly legal. "
   ]
  },
  {
   "cell_type": "markdown",
   "metadata": {},
   "source": [
    "What is Web scraping used for?\n",
    "- contact scraping, \n",
    "- applications used for web indexing, \n",
    "- web mining and data mining\n",
    "- online price change monitoring and price comparison, \n",
    "- product review scraping (to watch the competition), \n",
    "- gathering real estate listings, \n",
    "- weather data monitoring, \n",
    "- website change detection \n",
    "- plagiarism check and many more"
   ]
  },
  {
   "cell_type": "markdown",
   "metadata": {},
   "source": [
    "Process of Web Scrapping - "
   ]
  },
  {
   "cell_type": "markdown",
   "metadata": {},
   "source": [
    "- Analyze Website\n",
    "- find out what to extract\n",
    "- Write code and execute\n",
    "\n",
    "##### we are using python lang, beautifulSoup and Requests Packages "
   ]
  },
  {
   "cell_type": "code",
   "execution_count": 1,
   "metadata": {},
   "outputs": [
    {
     "name": "stdout",
     "output_type": "stream",
     "text": [
      "Requirement already satisfied: requests in c:\\users\\administrator\\appdata\\local\\programs\\python\\python36-32\\lib\\site-packages (2.20.0)\n",
      "Requirement already satisfied: idna<2.8,>=2.5 in c:\\users\\administrator\\appdata\\local\\programs\\python\\python36-32\\lib\\site-packages (from requests) (2.7)\n",
      "Requirement already satisfied: urllib3<1.25,>=1.21.1 in c:\\users\\administrator\\appdata\\local\\programs\\python\\python36-32\\lib\\site-packages (from requests) (1.24)\n",
      "Requirement already satisfied: certifi>=2017.4.17 in c:\\users\\administrator\\appdata\\local\\programs\\python\\python36-32\\lib\\site-packages (from requests) (2018.10.15)\n",
      "Requirement already satisfied: chardet<3.1.0,>=3.0.2 in c:\\users\\administrator\\appdata\\local\\programs\\python\\python36-32\\lib\\site-packages (from requests) (3.0.4)\n",
      "Note: you may need to restart the kernel to use updated packages.\n"
     ]
    }
   ],
   "source": [
    "pip install requests"
   ]
  },
  {
   "cell_type": "code",
   "execution_count": 2,
   "metadata": {},
   "outputs": [
    {
     "name": "stdout",
     "output_type": "stream",
     "text": [
      "Requirement already satisfied: bs4 in c:\\users\\administrator\\appdata\\local\\programs\\python\\python36-32\\lib\\site-packages (0.0.1)\n",
      "Requirement already satisfied: beautifulsoup4 in c:\\users\\administrator\\appdata\\local\\programs\\python\\python36-32\\lib\\site-packages (from bs4) (4.6.3)\n",
      "Note: you may need to restart the kernel to use updated packages.\n"
     ]
    }
   ],
   "source": [
    "pip install bs4"
   ]
  },
  {
   "cell_type": "code",
   "execution_count": 3,
   "metadata": {},
   "outputs": [
    {
     "name": "stdout",
     "output_type": "stream",
     "text": [
      "Name: requests\n",
      "Version: 2.20.0\n",
      "Summary: Python HTTP for Humans.\n",
      "Home-page: http://python-requests.org\n",
      "Author: Kenneth Reitz\n",
      "Author-email: me@kennethreitz.org\n",
      "License: Apache 2.0\n",
      "Location: c:\\users\\administrator\\appdata\\local\\programs\\python\\python36-32\\lib\\site-packages\n",
      "Requires: certifi, idna, urllib3, chardet\n",
      "Required-by: gTTS, gTTS-token\n",
      "Note: you may need to restart the kernel to use updated packages.\n"
     ]
    }
   ],
   "source": [
    "pip show requests"
   ]
  },
  {
   "cell_type": "code",
   "execution_count": 4,
   "metadata": {},
   "outputs": [
    {
     "name": "stdout",
     "output_type": "stream",
     "text": [
      "Name: bs4\n",
      "Version: 0.0.1\n",
      "Summary: Screen-scraping library\n",
      "Home-page: https://pypi.python.org/pypi/beautifulsoup4\n",
      "Author: Leonard Richardson\n",
      "Author-email: leonardr@segfault.org\n",
      "License: MIT\n",
      "Location: c:\\users\\administrator\\appdata\\local\\programs\\python\\python36-32\\lib\\site-packages\n",
      "Requires: beautifulsoup4\n",
      "Required-by: gTTS\n",
      "Note: you may need to restart the kernel to use updated packages.\n"
     ]
    }
   ],
   "source": [
    "pip show bs4"
   ]
  },
  {
   "cell_type": "markdown",
   "metadata": {},
   "source": [
    "##### We are extracting title of www.simplycs.in Website"
   ]
  },
  {
   "cell_type": "code",
   "execution_count": 53,
   "metadata": {},
   "outputs": [],
   "source": [
    "# Import required packages - Requests for making request to website server, bs4 for scrapping"
   ]
  },
  {
   "cell_type": "code",
   "execution_count": 54,
   "metadata": {},
   "outputs": [],
   "source": [
    "import requests\n",
    "import bs4"
   ]
  },
  {
   "cell_type": "code",
   "execution_count": 55,
   "metadata": {},
   "outputs": [],
   "source": [
    "res1=requests.get(\"https://www.simplycs.in\") # create object"
   ]
  },
  {
   "cell_type": "code",
   "execution_count": 56,
   "metadata": {},
   "outputs": [
    {
     "data": {
      "text/plain": [
       "requests.models.Response"
      ]
     },
     "execution_count": 56,
     "metadata": {},
     "output_type": "execute_result"
    }
   ],
   "source": [
    "type(res1)"
   ]
  },
  {
   "cell_type": "code",
   "execution_count": 57,
   "metadata": {},
   "outputs": [
    {
     "data": {
      "text/plain": [
       "'<!DOCTYPE html> <html lang=\"en-US\"><head>\\n\\t    <meta charset=\"UTF-8\">\\n    <meta name=\"viewport\" content=\"width=device-width, initial-scale=1\">\\n    <link rel=\"profile\" href=\"https://gmpg.org/xfn/11\">\\n    <link rel=\"pingback\" href=\"https://www.simplycs.in/xmlrpc.php\">\\n    \\n<title>SimplyCS.in &#8211; Learn CS Better than Ever&#8230;!!!</title>\\n\\r\\n\\t  <link rel=\\'dns-prefetch\\' href=\\'//fonts.googleapis.com\\' />\\n<link rel=\\'dns-prefetch\\' href=\\'//s.w.org\\' />\\n<link rel=\"alternate\" type=\"application/rss+xml\" title=\"SimplyCS.in &raquo; Feed\" href=\"https://www.simplycs.in/feed/\" />\\n<link rel=\"alternate\" type=\"application/rss+xml\" title=\"SimplyCS.in &raquo; Comments Feed\" href=\"https://www.simplycs.in/comments/feed/\" />\\n\\t\\t<script type=\"text/javascript\">\\n\\t\\t\\twindow._wpemojiSettings = {\"baseUrl\":\"https:\\\\/\\\\/s.w.org\\\\/images\\\\/core\\\\/emoji\\\\/12.0.0-1\\\\/72x72\\\\/\",\"ext\":\".png\",\"svgUrl\":\"https:\\\\/\\\\/s.w.org\\\\/images\\\\/core\\\\/emoji\\\\/12.0.0-1\\\\/svg\\\\/\",\"svgExt\":\".svg\",\"source\":{\"concatemoji\":\"https:\\\\/\\\\/www.simplycs.in\\\\/wp-includes\\\\/js\\\\/wp-emoji-release.min.js?ver=5.2.5\"}};\\n\\t\\t\\t!function(a,b,c){function d(a,b){var c=String.fromCharCode;l.clearRect(0,0,k.width,k.height),l.fillText(c.apply(this,a),0,0);var d=k.toDataURL();l.clearRect(0,0,k.width,k.height),l.fillText(c.apply(this,b),0,0);var e=k.toDataURL();return d===e}function e(a){var b;if(!l||!l.fillText)return!1;switch(l.textBaseline=\"top\",l.font=\"600 32px Arial\",a){case\"flag\":return!(b=d([55356,56826,55356,56819],[55356,56826,8203,55356,56819]))&&(b=d([55356,57332,56128,56423,56128,56418,56128,56421,56128,56430,56128,56423,56128,56447],[55356,57332,8203,56128,56423,8203,56128,56418,8203,56128,56421,8203,56128,56430,8203,56128,56423,8203,56128,56447]),!b);case\"emoji\":return b=d([55357,56424,55356,57342,8205,55358,56605,8205,55357,56424,55356,57340],[55357,56424,55356,57342,8203,55358,56605,8203,55357,56424,55356,57340]),!b}return!1}function f(a){var c=b.createElement(\"script\");c.src=a,c.defer=c.type=\"text/javascript\",b.getElementsByTagName(\"head\")[0].appendChild(c)}var g,h,i,j,k=b.createElement(\"canvas\"),l=k.getContext&&k.getContext(\"2d\");for(j=Array(\"flag\",\"emoji\"),c.supports={everything:!0,everythingExceptFlag:!0},i=0;i<j.length;i++)c.supports[j[i]]=e(j[i]),c.supports.everything=c.supports.everything&&c.supports[j[i]],\"flag\"!==j[i]&&(c.supports.everythingExceptFlag=c.supports.everythingExceptFlag&&c.supports[j[i]]);c.supports.everythingExceptFlag=c.supports.everythingExceptFlag&&!c.supports.flag,c.DOMReady=!1,c.readyCallback=function(){c.DOMReady=!0},c.supports.everything||(h=function(){c.readyCallback()},b.addEventListener?(b.addEventListener(\"DOMContentLoaded\",h,!1),a.addEventListener(\"load\",h,!1)):(a.attachEvent(\"onload\",h),b.attachEvent(\"onreadystatechange\",function(){\"complete\"===b.readyState&&c.readyCallback()})),g=c.source||{},g.concatemoji?f(g.concatemoji):g.wpemoji&&g.twemoji&&(f(g.twemoji),f(g.wpemoji)))}(window,document,window._wpemojiSettings);\\n\\t\\t</script>\\n\\t\\t<style type=\"text/css\">\\nimg.wp-smiley,\\nimg.emoji {\\n\\tdisplay: inline !important;\\n\\tborder: none !important;\\n\\tbox-shadow: none !important;\\n\\theight: 1em !important;\\n\\twidth: 1em !important;\\n\\tmargin: 0 .07em !important;\\n\\tvertical-align: -0.1em !important;\\n\\tbackground: none !important;\\n\\tpadding: 0 !important;\\n}\\n</style>\\n\\t<link rel=\\'stylesheet\\' id=\\'wp-block-library-css\\'  href=\\'https://www.simplycs.in/wp-includes/css/dist/block-library/style.min.css?ver=5.2.5\\' type=\\'text/css\\' media=\\'all\\' />\\n<link rel=\\'stylesheet\\' id=\\'SFSImainCss-css\\'  href=\\'https://www.simplycs.in/wp-content/plugins/ultimate-social-media-icons/css/sfsi-style.css?ver=5.2.5\\' type=\\'text/css\\' media=\\'all\\' />\\n<link rel=\\'stylesheet\\' id=\\'wp-lightbox-2.min.css-css\\'  href=\\'https://www.simplycs.in/wp-content/plugins/wp-lightbox-2/styles/lightbox.min.css?ver=1.3.4\\' type=\\'text/css\\' media=\\'all\\' />\\n<link rel=\\'stylesheet\\' id=\\'font-awesome-css\\'  href=\\'https://www.simplycs.in/wp-content/plugins/elementor/assets/lib/font-awesome/css/font-awesome.min.css?ver=4.7.0\\' type=\\'text/css\\' media=\\'all\\' />\\n<link rel=\\'stylesheet\\' id=\\'linten-google-fonts-css\\'  href=\\'https://fonts.googleapis.com/css?family=PT+Sans%3A400%2C700&#038;subset=latin%2Clatin-ext\\' type=\\'text/css\\' media=\\'all\\' />\\n<link rel=\\'stylesheet\\' id=\\'jquery-sidr-css\\'  href=\\'https://www.simplycs.in/wp-content/themes/linten/third-party/sidr/css/jquery.sidr.dark.min.css?ver=2.2.1\\' type=\\'text/css\\' media=\\'all\\' />\\n<link rel=\\'stylesheet\\' id=\\'linten-style-css\\'  href=\\'https://www.simplycs.in/wp-content/themes/linten/style.css?ver=1.0.6\\' type=\\'text/css\\' media=\\'all\\' />\\n<link rel=\\'stylesheet\\' id=\\'elementor-icons-css\\'  href=\\'https://www.simplycs.in/wp-content/plugins/elementor/assets/lib/eicons/css/elementor-icons.min.css?ver=5.6.2\\' type=\\'text/css\\' media=\\'all\\' />\\n<link rel=\\'stylesheet\\' id=\\'elementor-animations-css\\'  href=\\'https://www.simplycs.in/wp-content/plugins/elementor/assets/lib/animations/animations.min.css?ver=2.9.7\\' type=\\'text/css\\' media=\\'all\\' />\\n<link rel=\\'stylesheet\\' id=\\'elementor-frontend-css\\'  href=\\'https://www.simplycs.in/wp-content/plugins/elementor/assets/css/frontend.min.css?ver=2.9.7\\' type=\\'text/css\\' media=\\'all\\' />\\n<link rel=\\'stylesheet\\' id=\\'elementor-global-css\\'  href=\\'https://www.simplycs.in/wp-content/uploads/elementor/css/global.css?ver=1585181355\\' type=\\'text/css\\' media=\\'all\\' />\\n<link rel=\\'stylesheet\\' id=\\'elementor-post-376-css\\'  href=\\'https://www.simplycs.in/wp-content/uploads/elementor/css/post-376.css?ver=1585181355\\' type=\\'text/css\\' media=\\'all\\' />\\n<link rel=\\'stylesheet\\' id=\\'google-fonts-1-css\\'  href=\\'https://fonts.googleapis.com/css?family=Roboto%3A100%2C100italic%2C200%2C200italic%2C300%2C300italic%2C400%2C400italic%2C500%2C500italic%2C600%2C600italic%2C700%2C700italic%2C800%2C800italic%2C900%2C900italic%7CRoboto+Slab%3A100%2C100italic%2C200%2C200italic%2C300%2C300italic%2C400%2C400italic%2C500%2C500italic%2C600%2C600italic%2C700%2C700italic%2C800%2C800italic%2C900%2C900italic&#038;ver=5.2.5\\' type=\\'text/css\\' media=\\'all\\' />\\n<script>if (document.location.protocol != \"https:\") {document.location = document.URL.replace(/^http:/i, \"https:\");}</script><script type=\\'text/javascript\\'>\\n/* <![CDATA[ */\\nvar ahcfree_ajax_front = {\"ajax_url\":\"https:\\\\/\\\\/www.simplycs.in\\\\/wp-admin\\\\/admin-ajax.php\",\"page_id\":\"376\",\"page_title\":\"Home\",\"post_type\":\"page\"};\\n/* ]]> */\\n</script>\\n<script type=\\'text/javascript\\' src=\\'https://www.simplycs.in/wp-content/plugins/visitors-traffic-real-time-statistics/js/front.js?ver=5.2.5\\'></script>\\n<script type=\\'text/javascript\\' src=\\'https://www.simplycs.in/wp-includes/js/jquery/jquery.js?ver=1.12.4-wp\\'></script>\\n<script type=\\'text/javascript\\' src=\\'https://www.simplycs.in/wp-includes/js/jquery/jquery-migrate.min.js?ver=1.4.1\\'></script>\\n<link rel=\\'https://api.w.org/\\' href=\\'https://www.simplycs.in/wp-json/\\' />\\n<link rel=\"EditURI\" type=\"application/rsd+xml\" title=\"RSD\" href=\"https://www.simplycs.in/xmlrpc.php?rsd\" />\\n<link rel=\"wlwmanifest\" type=\"application/wlwmanifest+xml\" href=\"https://www.simplycs.in/wp-includes/wlwmanifest.xml\" /> \\n<meta name=\"generator\" content=\"WordPress 5.2.5\" />\\n<link rel=\"canonical\" href=\"https://www.simplycs.in/\" />\\n<link rel=\\'shortlink\\' href=\\'https://www.simplycs.in/\\' />\\n<link rel=\"alternate\" type=\"application/json+oembed\" href=\"https://www.simplycs.in/wp-json/oembed/1.0/embed?url=https%3A%2F%2Fwww.simplycs.in%2F\" />\\n<link rel=\"alternate\" type=\"text/xml+oembed\" href=\"https://www.simplycs.in/wp-json/oembed/1.0/embed?url=https%3A%2F%2Fwww.simplycs.in%2F&#038;format=xml\" />\\nSimplyCS- the New Way of learning....!!<meta name=\"follow.it-verification-code-NUdmai9JRDN2SVhTWGg0b0FUZi9aSVRZNUV5VTZHcVQybmNSRzlNSG5yM1BiNFJsSW0rTC80QytDY0Z0Sm1SS0NCL3JYeHRGUENMNU5JNjFlWU5wWTlxeU05bUVyZlEyT2g3RFVFS3NyVWRIenFIOHR5U0tMdnkwVEwyY0VuK1R8YkJSUnFUSnBpRXNtWE0rLzRlcnFXcndacCs3N1lBaTJrT3JoQU1YVEJlST0=\" content=\"jn0yxyUgAl4xkTRF3P80\"/><meta name=\"viewport\" content=\"width=device-width, initial-scale=1\"><style type=\"text/css\" id=\"custom-background-css\">\\nbody.custom-background { background-color: #f5f6f8; }\\n</style>\\n\\t<link rel=\"icon\" href=\"https://www.simplycs.in/wp-content/uploads/2017/06/cropped-simplycslogo-32x32.jpg\" sizes=\"32x32\" />\\n<link rel=\"icon\" href=\"https://www.simplycs.in/wp-content/uploads/2017/06/cropped-simplycslogo-192x192.jpg\" sizes=\"192x192\" />\\n<link rel=\"apple-touch-icon-precomposed\" href=\"https://www.simplycs.in/wp-content/uploads/2017/06/cropped-simplycslogo-180x180.jpg\" />\\n<meta name=\"msapplication-TileImage\" content=\"https://www.simplycs.in/wp-content/uploads/2017/06/cropped-simplycslogo-270x270.jpg\" />\\n</head>\\n\\n<body data-rsssl=1 class=\"home page-template-default page page-id-376 custom-background wp-custom-logo group-blog global-layout-left-sidebar elementor-default elementor-kit-948 elementor-page elementor-page-376\">\\n\\n\\t    <div id=\"page\" class=\"hfeed site\">\\n    <a class=\"skip-link screen-reader-text\" href=\"#content\">Skip to content</a>\\t\\t<a id=\"mobile-trigger\" href=\"#mob-menu\"><i class=\"fa fa-bars\"></i></a>\\n\\t\\t<div id=\"mob-menu\">\\n\\t\\t\\t<ul id=\"menu-primary-menu\" class=\"menu\"><li id=\"menu-item-15\" class=\"menu-item menu-item-type-taxonomy menu-item-object-category menu-item-15\"><a href=\"https://www.simplycs.in/category/c/\">Learn C</a></li>\\n<li id=\"menu-item-16\" class=\"menu-item menu-item-type-taxonomy menu-item-object-category menu-item-16\"><a href=\"https://www.simplycs.in/category/learn-c/\">Learn C++</a></li>\\n<li id=\"menu-item-17\" class=\"menu-item menu-item-type-taxonomy menu-item-object-category menu-item-17\"><a href=\"https://www.simplycs.in/category/data-structure/\">Data Structure</a></li>\\n<li id=\"menu-item-19\" class=\"menu-item menu-item-type-taxonomy menu-item-object-category menu-item-19\"><a href=\"https://www.simplycs.in/category/java/\">Learn Java</a></li>\\n<li id=\"menu-item-20\" class=\"menu-item menu-item-type-taxonomy menu-item-object-category menu-item-20\"><a href=\"https://www.simplycs.in/category/net/\">Learn .Net</a></li>\\n<li id=\"menu-item-197\" class=\"menu-item menu-item-type-taxonomy menu-item-object-category menu-item-197\"><a href=\"https://www.simplycs.in/category/database-mysql/\">Database</a></li>\\n<li id=\"menu-item-198\" class=\"menu-item menu-item-type-taxonomy menu-item-object-category menu-item-198\"><a href=\"https://www.simplycs.in/category/learn-python/\">Learn Python</a></li>\\n<li id=\"menu-item-186\" class=\"menu-item menu-item-type-taxonomy menu-item-object-category menu-item-186\"><a href=\"https://www.simplycs.in/category/learn-opencart/\">OpenCart</a></li>\\n<li id=\"menu-item-187\" class=\"menu-item menu-item-type-taxonomy menu-item-object-category menu-item-187\"><a href=\"https://www.simplycs.in/category/learn-data-science/\">Data Science</a></li>\\n<li id=\"menu-item-18\" class=\"menu-item menu-item-type-taxonomy menu-item-object-category menu-item-18\"><a href=\"https://www.simplycs.in/category/all/\">All</a></li>\\n</ul>\\t\\t</div><!-- #mob-menu -->\\n\\t\\t\\n    \\t\\t<div id=\"tophead\">\\n\\t\\t\\t<div class=\"container\">\\n\\t\\t\\t\\t<div id=\"quick-contact\">\\n\\t\\t\\t\\t\\t\\t\\t\\t\\t\\t\\t<ul>\\n\\t\\t\\t\\t\\t\\t\\t\\t\\t\\t\\t\\t\\t\\t\\t\\t\\t\\t\\t\\t\\t\\t<li class=\"quick-email\">\\n\\t\\t\\t\\t\\t\\t\\t\\t\\t<a href=\"mailto:Email-learnwithsimplycs@gmail.com\">E&#109;a&#105;&#108;&#045;l&#101;ar&#110;w&#105;&#116;h&#115;&#105;m&#112;l&#121;&#099;&#115;&#064;g&#109;&#097;&#105;&#108;.&#099;&#111;&#109;</a>\\n\\t\\t\\t\\t\\t\\t\\t\\t</li>\\n\\t\\t\\t\\t\\t\\t\\t\\t\\t\\t\\t\\t\\t</ul>\\n\\t\\t\\t\\t\\t\\t\\t\\t\\t</div><!-- #quick-contact -->\\n\\n\\t\\t\\t\\t\\t\\t\\t</div> <!-- .container -->\\n\\t\\t</div><!--  #tophead -->\\n\\n\\t<header id=\"masthead\" class=\"site-header\" role=\"banner\"><div class=\"container\">\\t\\t\\t    <div class=\"site-branding\">\\n\\n\\t\\t\\t<a href=\"https://www.simplycs.in/\" class=\"custom-logo-link\" rel=\"home\"><img width=\"80\" height=\"80\" src=\"https://www.simplycs.in/wp-content/uploads/2018/02/simplycslogo_transparent-1.png\" class=\"custom-logo\" alt=\"SimplyCS.in\" /></a>\\n\\t\\t\\t\\t\\t\\t\\t\\t\\t\\t\\t\\t\\t<div id=\"site-identity\">\\n\\t\\t\\t\\t\\t\\t\\t\\t\\t\\t\\t\\t\\t\\t\\t\\t\\t\\t<p class=\"site-title\"><a href=\"https://www.simplycs.in/\" rel=\"home\">SimplyCS.in</a></p>\\n\\t\\t\\t\\t\\t\\t\\t\\t\\t\\t\\t\\t\\t\\t\\t\\t\\t\\t\\t\\t\\t\\t<p class=\"site-description\">Learn CS Better than Ever&#8230;!!!</p>\\n\\t\\t\\t\\t\\t\\t\\t\\t\\t</div><!-- #site-identity -->\\n\\t\\t\\t\\t    </div><!-- .site-branding -->\\n    \\t\\t    \\t    \\t<div class=\"header-search-box\">\\n\\t\\t    \\t<a href=\"#\" class=\"search-icon\"><i class=\"fa fa-search\"></i></a>\\n\\t\\t    \\t<div class=\"search-box-wrap\">\\n\\t\\t    \\t\\t\\n<form role=\"search\" method=\"get\" class=\"search-form\" action=\"https://www.simplycs.in/\">\\n\\t<label>\\n\\t\\t<span class=\"screen-reader-text\">Search for:</span>\\n\\t\\t<input type=\"search\" class=\"search-field\" placeholder=\"Search &hellip;\" value=\"\" name=\"s\" />\\n\\t</label>\\n\\t<input type=\"submit\" class=\"search-submit\" value=\"&#xf002;\" />\\n</form>\\n\\t\\t    \\t</div><!-- .search-box-wrap -->\\n\\t\\t    </div><!-- .header-search-box -->\\n\\t\\t\\t    <div id=\"main-nav\">\\n\\t        <nav id=\"site-navigation\" class=\"main-navigation\" role=\"navigation\">\\n\\t            <div class=\"wrap-menu-content\">\\n\\t\\t\\t\\t\\t<div class=\"menu-primary-menu-container\"><ul id=\"primary-menu\" class=\"menu\"><li class=\"menu-item menu-item-type-taxonomy menu-item-object-category menu-item-15\"><a href=\"https://www.simplycs.in/category/c/\">Learn C</a></li>\\n<li class=\"menu-item menu-item-type-taxonomy menu-item-object-category menu-item-16\"><a href=\"https://www.simplycs.in/category/learn-c/\">Learn C++</a></li>\\n<li class=\"menu-item menu-item-type-taxonomy menu-item-object-category menu-item-17\"><a href=\"https://www.simplycs.in/category/data-structure/\">Data Structure</a></li>\\n<li class=\"menu-item menu-item-type-taxonomy menu-item-object-category menu-item-19\"><a href=\"https://www.simplycs.in/category/java/\">Learn Java</a></li>\\n<li class=\"menu-item menu-item-type-taxonomy menu-item-object-category menu-item-20\"><a href=\"https://www.simplycs.in/category/net/\">Learn .Net</a></li>\\n<li class=\"menu-item menu-item-type-taxonomy menu-item-object-category menu-item-197\"><a href=\"https://www.simplycs.in/category/database-mysql/\">Database</a></li>\\n<li class=\"menu-item menu-item-type-taxonomy menu-item-object-category menu-item-198\"><a href=\"https://www.simplycs.in/category/learn-python/\">Learn Python</a></li>\\n<li class=\"menu-item menu-item-type-taxonomy menu-item-object-category menu-item-186\"><a href=\"https://www.simplycs.in/category/learn-opencart/\">OpenCart</a></li>\\n<li class=\"menu-item menu-item-type-taxonomy menu-item-object-category menu-item-187\"><a href=\"https://www.simplycs.in/category/learn-data-science/\">Data Science</a></li>\\n<li class=\"menu-item menu-item-type-taxonomy menu-item-object-category menu-item-18\"><a href=\"https://www.simplycs.in/category/all/\">All</a></li>\\n</ul></div>\\t            </div><!-- .menu-content -->\\n\\t        </nav><!-- #site-navigation -->\\n\\t    </div> <!-- #main-nav -->\\n\\t        </div><!-- .container --></header><!-- #masthead -->\\n\\t<div id=\"sidebar-front-page-widget-area\" class=\"widget-area\"></div><!-- #sidebar-front-page-widget-area --><div id=\"content\" class=\"site-content\"><div class=\"container\"><div class=\"inner-wrapper\">    \\n\\n\\t<div id=\"primary\" class=\"content-area\">\\n\\t\\t<main id=\"main\" class=\"site-main\" role=\"main\">\\n\\n\\t\\t\\t\\n\\t\\t\\t\\t\\n<article id=\"post-376\" class=\"post-376 page type-page status-publish hentry\">\\n\\n    \\t<div class=\"entry-content-wrapper\">\\n\\t\\t<div class=\"entry-content\">\\n\\t\\t\\t\\t\\t<div data-elementor-type=\"wp-post\" data-elementor-id=\"376\" class=\"elementor elementor-376 elementor-bc-flex-widget\" data-elementor-settings=\"[]\">\\n\\t\\t\\t<div class=\"elementor-inner\">\\n\\t\\t\\t\\t<div class=\"elementor-section-wrap\">\\n\\t\\t\\t\\t\\t\\t\\t<section class=\"elementor-element elementor-element-d3124d0 elementor-section-boxed elementor-section-height-default elementor-section-height-default elementor-section elementor-top-section\" data-id=\"d3124d0\" data-element_type=\"section\">\\n\\t\\t\\t\\t\\t\\t<div class=\"elementor-container elementor-column-gap-default\">\\n\\t\\t\\t\\t<div class=\"elementor-row\">\\n\\t\\t\\t\\t<div class=\"elementor-element elementor-element-9f00b2a elementor-column elementor-col-33 elementor-top-column\" data-id=\"9f00b2a\" data-element_type=\"column\">\\n\\t\\t\\t<div class=\"elementor-column-wrap  elementor-element-populated\">\\n\\t\\t\\t\\t\\t<div class=\"elementor-widget-wrap\">\\n\\t\\t\\t\\t<div class=\"elementor-element elementor-element-1f1b0db elementor-widget elementor-widget-image\" data-id=\"1f1b0db\" data-element_type=\"widget\" data-widget_type=\"image.default\">\\n\\t\\t\\t\\t<div class=\"elementor-widget-container\">\\n\\t\\t\\t\\t\\t<div class=\"elementor-image\">\\n\\t\\t\\t\\t\\t\\t\\t\\t\\t\\t\\t<a href=\"https://www.simplycs.in/category/c/\">\\n\\t\\t\\t\\t\\t\\t\\t<img width=\"273\" height=\"150\" src=\"https://www.simplycs.in/wp-content/uploads/2017/06/SimplyCS-C-Language-e1506088311127.png\" class=\"attachment-large size-large\" alt=\"\" />\\t\\t\\t\\t\\t\\t\\t\\t</a>\\n\\t\\t\\t\\t\\t\\t\\t\\t\\t\\t\\t</div>\\n\\t\\t\\t\\t</div>\\n\\t\\t\\t\\t</div>\\n\\t\\t\\t\\t\\t\\t</div>\\n\\t\\t\\t</div>\\n\\t\\t</div>\\n\\t\\t\\t\\t<div class=\"elementor-element elementor-element-5ecd0a9 elementor-column elementor-col-33 elementor-top-column\" data-id=\"5ecd0a9\" data-element_type=\"column\">\\n\\t\\t\\t<div class=\"elementor-column-wrap  elementor-element-populated\">\\n\\t\\t\\t\\t\\t<div class=\"elementor-widget-wrap\">\\n\\t\\t\\t\\t<div class=\"elementor-element elementor-element-8f36e5c elementor-widget elementor-widget-image\" data-id=\"8f36e5c\" data-element_type=\"widget\" data-widget_type=\"image.default\">\\n\\t\\t\\t\\t<div class=\"elementor-widget-container\">\\n\\t\\t\\t\\t\\t<div class=\"elementor-image\">\\n\\t\\t\\t\\t\\t\\t\\t\\t\\t\\t\\t<a href=\"https://www.simplycs.in/category/learn-c/\">\\n\\t\\t\\t\\t\\t\\t\\t<img width=\"300\" height=\"161\" src=\"https://www.simplycs.in/wp-content/uploads/2018/09/c-300x161.jpg\" class=\"attachment-medium size-medium\" alt=\"\" srcset=\"https://www.simplycs.in/wp-content/uploads/2018/09/c-300x161.jpg 300w, https://www.simplycs.in/wp-content/uploads/2018/09/c.jpg 360w\" sizes=\"(max-width: 300px) 100vw, 300px\" />\\t\\t\\t\\t\\t\\t\\t\\t</a>\\n\\t\\t\\t\\t\\t\\t\\t\\t\\t\\t\\t</div>\\n\\t\\t\\t\\t</div>\\n\\t\\t\\t\\t</div>\\n\\t\\t\\t\\t\\t\\t</div>\\n\\t\\t\\t</div>\\n\\t\\t</div>\\n\\t\\t\\t\\t<div class=\"elementor-element elementor-element-c81c51f elementor-column elementor-col-33 elementor-top-column\" data-id=\"c81c51f\" data-element_type=\"column\">\\n\\t\\t\\t<div class=\"elementor-column-wrap  elementor-element-populated\">\\n\\t\\t\\t\\t\\t<div class=\"elementor-widget-wrap\">\\n\\t\\t\\t\\t<div class=\"elementor-element elementor-element-50ef3db elementor-widget elementor-widget-image\" data-id=\"50ef3db\" data-element_type=\"widget\" data-widget_type=\"image.default\">\\n\\t\\t\\t\\t<div class=\"elementor-widget-container\">\\n\\t\\t\\t\\t\\t<div class=\"elementor-image\">\\n\\t\\t\\t\\t\\t\\t\\t\\t\\t\\t\\t<a href=\"https://www.simplycs.in/category/data-structure/\">\\n\\t\\t\\t\\t\\t\\t\\t<img width=\"150\" height=\"150\" src=\"https://www.simplycs.in/wp-content/uploads/2017/09/data-structure-150x150.png\" class=\"attachment-thumbnail size-thumbnail\" alt=\"\" srcset=\"https://www.simplycs.in/wp-content/uploads/2017/09/data-structure-e1505997725839.png 150w, https://www.simplycs.in/wp-content/uploads/2017/09/data-structure-260x260.png 260w\" sizes=\"(max-width: 150px) 100vw, 150px\" />\\t\\t\\t\\t\\t\\t\\t\\t</a>\\n\\t\\t\\t\\t\\t\\t\\t\\t\\t\\t\\t</div>\\n\\t\\t\\t\\t</div>\\n\\t\\t\\t\\t</div>\\n\\t\\t\\t\\t\\t\\t</div>\\n\\t\\t\\t</div>\\n\\t\\t</div>\\n\\t\\t\\t\\t\\t\\t</div>\\n\\t\\t\\t</div>\\n\\t\\t</section>\\n\\t\\t\\t\\t<section class=\"elementor-element elementor-element-a51fd3a elementor-section-boxed elementor-section-height-default elementor-section-height-default elementor-section elementor-top-section\" data-id=\"a51fd3a\" data-element_type=\"section\">\\n\\t\\t\\t\\t\\t\\t<div class=\"elementor-container elementor-column-gap-default\">\\n\\t\\t\\t\\t<div class=\"elementor-row\">\\n\\t\\t\\t\\t<div class=\"elementor-element elementor-element-31d63d9 elementor-column elementor-col-33 elementor-top-column\" data-id=\"31d63d9\" data-element_type=\"column\">\\n\\t\\t\\t<div class=\"elementor-column-wrap  elementor-element-populated\">\\n\\t\\t\\t\\t\\t<div class=\"elementor-widget-wrap\">\\n\\t\\t\\t\\t<div class=\"elementor-element elementor-element-aa2b472 elementor-widget elementor-widget-image\" data-id=\"aa2b472\" data-element_type=\"widget\" data-widget_type=\"image.default\">\\n\\t\\t\\t\\t<div class=\"elementor-widget-container\">\\n\\t\\t\\t\\t\\t<div class=\"elementor-image\">\\n\\t\\t\\t\\t\\t\\t\\t\\t\\t\\t\\t<a href=\"https://www.simplycs.in/category/database-mysql/\">\\n\\t\\t\\t\\t\\t\\t\\t<img width=\"300\" height=\"155\" src=\"https://www.simplycs.in/wp-content/uploads/2018/01/1200px-MySQL.svg_-300x155.png\" class=\"attachment-medium size-medium\" alt=\"\" srcset=\"https://www.simplycs.in/wp-content/uploads/2018/01/1200px-MySQL.svg_-300x155.png 300w, https://www.simplycs.in/wp-content/uploads/2018/01/1200px-MySQL.svg_-e1516817697120.png 280w\" sizes=\"(max-width: 300px) 100vw, 300px\" />\\t\\t\\t\\t\\t\\t\\t\\t</a>\\n\\t\\t\\t\\t\\t\\t\\t\\t\\t\\t\\t</div>\\n\\t\\t\\t\\t</div>\\n\\t\\t\\t\\t</div>\\n\\t\\t\\t\\t\\t\\t</div>\\n\\t\\t\\t</div>\\n\\t\\t</div>\\n\\t\\t\\t\\t<div class=\"elementor-element elementor-element-2e7041d elementor-column elementor-col-33 elementor-top-column\" data-id=\"2e7041d\" data-element_type=\"column\">\\n\\t\\t\\t<div class=\"elementor-column-wrap  elementor-element-populated\">\\n\\t\\t\\t\\t\\t<div class=\"elementor-widget-wrap\">\\n\\t\\t\\t\\t<div class=\"elementor-element elementor-element-d431d59 elementor-widget elementor-widget-image\" data-id=\"d431d59\" data-element_type=\"widget\" data-widget_type=\"image.default\">\\n\\t\\t\\t\\t<div class=\"elementor-widget-container\">\\n\\t\\t\\t\\t\\t<div class=\"elementor-image\">\\n\\t\\t\\t\\t\\t\\t\\t\\t\\t\\t<img width=\"197\" height=\"150\" src=\"https://www.simplycs.in/wp-content/uploads/2017/09/xamarin-mini-logo-e1506088209640.jpg\" class=\"attachment-medium size-medium\" alt=\"\" />\\t\\t\\t\\t\\t\\t\\t\\t\\t\\t\\t</div>\\n\\t\\t\\t\\t</div>\\n\\t\\t\\t\\t</div>\\n\\t\\t\\t\\t\\t\\t</div>\\n\\t\\t\\t</div>\\n\\t\\t</div>\\n\\t\\t\\t\\t<div class=\"elementor-element elementor-element-e56b84b elementor-column elementor-col-33 elementor-top-column\" data-id=\"e56b84b\" data-element_type=\"column\">\\n\\t\\t\\t<div class=\"elementor-column-wrap  elementor-element-populated\">\\n\\t\\t\\t\\t\\t<div class=\"elementor-widget-wrap\">\\n\\t\\t\\t\\t<div class=\"elementor-element elementor-element-52d2cdd elementor-widget elementor-widget-image\" data-id=\"52d2cdd\" data-element_type=\"widget\" data-widget_type=\"image.default\">\\n\\t\\t\\t\\t<div class=\"elementor-widget-container\">\\n\\t\\t\\t\\t\\t<div class=\"elementor-image\">\\n\\t\\t\\t\\t\\t\\t\\t\\t\\t\\t<img width=\"150\" height=\"150\" src=\"https://www.simplycs.in/wp-content/uploads/2018/09/Network-Linux-Client-icon-1-150x150.png\" class=\"attachment-thumbnail size-thumbnail\" alt=\"\" srcset=\"https://www.simplycs.in/wp-content/uploads/2018/09/Network-Linux-Client-icon-1-150x150.png 150w, https://www.simplycs.in/wp-content/uploads/2018/09/Network-Linux-Client-icon-1-300x300.png 300w, https://www.simplycs.in/wp-content/uploads/2018/09/Network-Linux-Client-icon-1-260x260.png 260w, https://www.simplycs.in/wp-content/uploads/2018/09/Network-Linux-Client-icon-1.png 512w\" sizes=\"(max-width: 150px) 100vw, 150px\" />\\t\\t\\t\\t\\t\\t\\t\\t\\t\\t\\t</div>\\n\\t\\t\\t\\t</div>\\n\\t\\t\\t\\t</div>\\n\\t\\t\\t\\t\\t\\t</div>\\n\\t\\t\\t</div>\\n\\t\\t</div>\\n\\t\\t\\t\\t\\t\\t</div>\\n\\t\\t\\t</div>\\n\\t\\t</section>\\n\\t\\t\\t\\t<section class=\"elementor-element elementor-element-87abf1a elementor-section-boxed elementor-section-height-default elementor-section-height-default elementor-section elementor-top-section\" data-id=\"87abf1a\" data-element_type=\"section\">\\n\\t\\t\\t\\t\\t\\t<div class=\"elementor-container elementor-column-gap-default\">\\n\\t\\t\\t\\t<div class=\"elementor-row\">\\n\\t\\t\\t\\t<div class=\"elementor-element elementor-element-3eea113 elementor-column elementor-col-33 elementor-top-column\" data-id=\"3eea113\" data-element_type=\"column\">\\n\\t\\t\\t<div class=\"elementor-column-wrap  elementor-element-populated\">\\n\\t\\t\\t\\t\\t<div class=\"elementor-widget-wrap\">\\n\\t\\t\\t\\t<div class=\"elementor-element elementor-element-48ac8dd elementor-widget elementor-widget-image\" data-id=\"48ac8dd\" data-element_type=\"widget\" data-widget_type=\"image.default\">\\n\\t\\t\\t\\t<div class=\"elementor-widget-container\">\\n\\t\\t\\t\\t\\t<div class=\"elementor-image\">\\n\\t\\t\\t\\t\\t\\t\\t\\t\\t\\t<img width=\"150\" height=\"150\" src=\"https://www.simplycs.in/wp-content/uploads/2017/06/images-150x150.jpg\" class=\"attachment-thumbnail size-thumbnail\" alt=\"\" />\\t\\t\\t\\t\\t\\t\\t\\t\\t\\t\\t</div>\\n\\t\\t\\t\\t</div>\\n\\t\\t\\t\\t</div>\\n\\t\\t\\t\\t\\t\\t</div>\\n\\t\\t\\t</div>\\n\\t\\t</div>\\n\\t\\t\\t\\t<div class=\"elementor-element elementor-element-ece1b2e elementor-column elementor-col-33 elementor-top-column\" data-id=\"ece1b2e\" data-element_type=\"column\">\\n\\t\\t\\t<div class=\"elementor-column-wrap  elementor-element-populated\">\\n\\t\\t\\t\\t\\t<div class=\"elementor-widget-wrap\">\\n\\t\\t\\t\\t<div class=\"elementor-element elementor-element-b409a10 elementor-widget elementor-widget-image\" data-id=\"b409a10\" data-element_type=\"widget\" data-widget_type=\"image.default\">\\n\\t\\t\\t\\t<div class=\"elementor-widget-container\">\\n\\t\\t\\t\\t\\t<div class=\"elementor-image\">\\n\\t\\t\\t\\t\\t\\t\\t\\t\\t\\t\\t<a href=\"https://www.simplycs.in/category/learn-python/\">\\n\\t\\t\\t\\t\\t\\t\\t<img width=\"150\" height=\"150\" src=\"https://www.simplycs.in/wp-content/uploads/2018/09/Other-python-icon-150x150.png\" class=\"attachment-thumbnail size-thumbnail\" alt=\"\" srcset=\"https://www.simplycs.in/wp-content/uploads/2018/09/Other-python-icon-150x150.png 150w, https://www.simplycs.in/wp-content/uploads/2018/09/Other-python-icon-300x300.png 300w, https://www.simplycs.in/wp-content/uploads/2018/09/Other-python-icon-260x260.png 260w, https://www.simplycs.in/wp-content/uploads/2018/09/Other-python-icon.png 512w\" sizes=\"(max-width: 150px) 100vw, 150px\" />\\t\\t\\t\\t\\t\\t\\t\\t</a>\\n\\t\\t\\t\\t\\t\\t\\t\\t\\t\\t\\t</div>\\n\\t\\t\\t\\t</div>\\n\\t\\t\\t\\t</div>\\n\\t\\t\\t\\t\\t\\t</div>\\n\\t\\t\\t</div>\\n\\t\\t</div>\\n\\t\\t\\t\\t<div class=\"elementor-element elementor-element-ec35957 elementor-column elementor-col-33 elementor-top-column\" data-id=\"ec35957\" data-element_type=\"column\">\\n\\t\\t\\t<div class=\"elementor-column-wrap  elementor-element-populated\">\\n\\t\\t\\t\\t\\t<div class=\"elementor-widget-wrap\">\\n\\t\\t\\t\\t<div class=\"elementor-element elementor-element-7d599b4 elementor-widget elementor-widget-image\" data-id=\"7d599b4\" data-element_type=\"widget\" data-widget_type=\"image.default\">\\n\\t\\t\\t\\t<div class=\"elementor-widget-container\">\\n\\t\\t\\t\\t\\t<div class=\"elementor-image\">\\n\\t\\t\\t\\t\\t\\t\\t\\t\\t\\t\\t<a href=\"https://www.simplycs.in/elementor-412/\">\\n\\t\\t\\t\\t\\t\\t\\t<img width=\"300\" height=\"195\" src=\"https://www.simplycs.in/wp-content/uploads/2018/09/gate-cse-300x195.png\" class=\"attachment-medium size-medium\" alt=\"\" srcset=\"https://www.simplycs.in/wp-content/uploads/2018/09/gate-cse-300x195.png 300w, https://www.simplycs.in/wp-content/uploads/2018/09/gate-cse-380x247.png 380w, https://www.simplycs.in/wp-content/uploads/2018/09/gate-cse.png 602w\" sizes=\"(max-width: 300px) 100vw, 300px\" />\\t\\t\\t\\t\\t\\t\\t\\t</a>\\n\\t\\t\\t\\t\\t\\t\\t\\t\\t\\t\\t</div>\\n\\t\\t\\t\\t</div>\\n\\t\\t\\t\\t</div>\\n\\t\\t\\t\\t\\t\\t</div>\\n\\t\\t\\t</div>\\n\\t\\t</div>\\n\\t\\t\\t\\t\\t\\t</div>\\n\\t\\t\\t</div>\\n\\t\\t</section>\\n\\t\\t\\t\\t<section class=\"elementor-element elementor-element-7bef38a elementor-section-boxed elementor-section-height-default elementor-section-height-default elementor-section elementor-top-section\" data-id=\"7bef38a\" data-element_type=\"section\">\\n\\t\\t\\t\\t\\t\\t<div class=\"elementor-container elementor-column-gap-default\">\\n\\t\\t\\t\\t<div class=\"elementor-row\">\\n\\t\\t\\t\\t<div class=\"elementor-element elementor-element-6a71497 elementor-column elementor-col-16 elementor-top-column\" data-id=\"6a71497\" data-element_type=\"column\">\\n\\t\\t\\t<div class=\"elementor-column-wrap\">\\n\\t\\t\\t\\t\\t<div class=\"elementor-widget-wrap\">\\n\\t\\t\\t\\t\\t\\t</div>\\n\\t\\t\\t</div>\\n\\t\\t</div>\\n\\t\\t\\t\\t<div class=\"elementor-element elementor-element-bfe2711 elementor-column elementor-col-66 elementor-top-column\" data-id=\"bfe2711\" data-element_type=\"column\">\\n\\t\\t\\t<div class=\"elementor-column-wrap  elementor-element-populated\">\\n\\t\\t\\t\\t\\t<div class=\"elementor-widget-wrap\">\\n\\t\\t\\t\\t<div class=\"elementor-element elementor-element-8f66dbc elementor-aspect-ratio-169 elementor-widget elementor-widget-video\" data-id=\"8f66dbc\" data-element_type=\"widget\" data-settings=\"{&quot;aspect_ratio&quot;:&quot;169&quot;}\" data-widget_type=\"video.default\">\\n\\t\\t\\t\\t<div class=\"elementor-widget-container\">\\n\\t\\t\\t\\t\\t<div class=\"elementor-wrapper elementor-fit-aspect-ratio elementor-open-inline\">\\n\\t\\t\\t<iframe class=\"elementor-video-iframe\" allowfullscreen title=\"youtube Video Player\" src=\"https://www.youtube.com/embed/VJg9G0w8Z0k?feature=oembed&amp;start&amp;end&amp;wmode=opaque&amp;loop=0&amp;controls=1&amp;mute=0&amp;rel=0&amp;modestbranding=0\"></iframe>\\t\\t</div>\\n\\t\\t\\t\\t</div>\\n\\t\\t\\t\\t</div>\\n\\t\\t\\t\\t\\t\\t</div>\\n\\t\\t\\t</div>\\n\\t\\t</div>\\n\\t\\t\\t\\t<div class=\"elementor-element elementor-element-d266db1 elementor-column elementor-col-16 elementor-top-column\" data-id=\"d266db1\" data-element_type=\"column\">\\n\\t\\t\\t<div class=\"elementor-column-wrap\">\\n\\t\\t\\t\\t\\t<div class=\"elementor-widget-wrap\">\\n\\t\\t\\t\\t\\t\\t</div>\\n\\t\\t\\t</div>\\n\\t\\t</div>\\n\\t\\t\\t\\t\\t\\t</div>\\n\\t\\t\\t</div>\\n\\t\\t</section>\\n\\t\\t\\t\\t<section class=\"elementor-element elementor-element-5f62b3c elementor-section-boxed elementor-section-height-default elementor-section-height-default elementor-section elementor-top-section\" data-id=\"5f62b3c\" data-element_type=\"section\">\\n\\t\\t\\t\\t\\t\\t<div class=\"elementor-container elementor-column-gap-default\">\\n\\t\\t\\t\\t<div class=\"elementor-row\">\\n\\t\\t\\t\\t<div class=\"elementor-element elementor-element-a5ae3bd elementor-column elementor-col-33 elementor-top-column\" data-id=\"a5ae3bd\" data-element_type=\"column\">\\n\\t\\t\\t<div class=\"elementor-column-wrap  elementor-element-populated\">\\n\\t\\t\\t\\t\\t<div class=\"elementor-widget-wrap\">\\n\\t\\t\\t\\t<div class=\"elementor-element elementor-element-8fe52cc elementor-widget elementor-widget-text-editor\" data-id=\"8fe52cc\" data-element_type=\"widget\" data-widget_type=\"text-editor.default\">\\n\\t\\t\\t\\t<div class=\"elementor-widget-container\">\\n\\t\\t\\t\\t\\t<div class=\"elementor-text-editor elementor-clearfix\"><h2 style=\"text-align: center;\"><span style=\"color: #ff6600;\">What we cover?? Not only these but Some more technologies will come soon</span></h2></div>\\n\\t\\t\\t\\t</div>\\n\\t\\t\\t\\t</div>\\n\\t\\t\\t\\t\\t\\t</div>\\n\\t\\t\\t</div>\\n\\t\\t</div>\\n\\t\\t\\t\\t<div class=\"elementor-element elementor-element-2cc5ac6 elementor-column elementor-col-66 elementor-top-column\" data-id=\"2cc5ac6\" data-element_type=\"column\">\\n\\t\\t\\t<div class=\"elementor-column-wrap  elementor-element-populated\">\\n\\t\\t\\t\\t\\t<div class=\"elementor-widget-wrap\">\\n\\t\\t\\t\\t<div class=\"elementor-element elementor-element-ada5cea elementor-icon-list--layout-traditional elementor-widget elementor-widget-icon-list\" data-id=\"ada5cea\" data-element_type=\"widget\" data-widget_type=\"icon-list.default\">\\n\\t\\t\\t\\t<div class=\"elementor-widget-container\">\\n\\t\\t\\t\\t\\t<ul class=\"elementor-icon-list-items\">\\n\\t\\t\\t\\t\\t\\t\\t<li class=\"elementor-icon-list-item\" >\\n\\t\\t\\t\\t\\t\\t\\t\\t\\t\\t\\t<span class=\"elementor-icon-list-icon\">\\n\\t\\t\\t\\t\\t\\t\\t\\t\\t\\t\\t\\t\\t\\t\\t\\t<i class=\"fa fa-language\" aria-hidden=\"true\"></i>\\n\\t\\t\\t\\t\\t\\t\\t\\t\\t\\t\\t\\t\\t</span>\\n\\t\\t\\t\\t\\t\\t\\t\\t\\t\\t<span class=\"elementor-icon-list-text\">C Programming</span>\\n\\t\\t\\t\\t\\t\\t\\t\\t\\t</li>\\n\\t\\t\\t\\t\\t\\t\\t\\t<li class=\"elementor-icon-list-item\" >\\n\\t\\t\\t\\t\\t\\t\\t\\t\\t\\t\\t<span class=\"elementor-icon-list-icon\">\\n\\t\\t\\t\\t\\t\\t\\t\\t\\t\\t\\t\\t\\t\\t\\t\\t<i class=\"fa fa-language\" aria-hidden=\"true\"></i>\\n\\t\\t\\t\\t\\t\\t\\t\\t\\t\\t\\t\\t\\t</span>\\n\\t\\t\\t\\t\\t\\t\\t\\t\\t\\t<span class=\"elementor-icon-list-text\">Programming in C++</span>\\n\\t\\t\\t\\t\\t\\t\\t\\t\\t</li>\\n\\t\\t\\t\\t\\t\\t\\t\\t<li class=\"elementor-icon-list-item\" >\\n\\t\\t\\t\\t\\t\\t\\t\\t\\t\\t\\t<span class=\"elementor-icon-list-icon\">\\n\\t\\t\\t\\t\\t\\t\\t\\t\\t\\t\\t\\t\\t\\t\\t\\t<i class=\"fa fa-language\" aria-hidden=\"true\"></i>\\n\\t\\t\\t\\t\\t\\t\\t\\t\\t\\t\\t\\t\\t</span>\\n\\t\\t\\t\\t\\t\\t\\t\\t\\t\\t<span class=\"elementor-icon-list-text\">Linux Tutorials</span>\\n\\t\\t\\t\\t\\t\\t\\t\\t\\t</li>\\n\\t\\t\\t\\t\\t\\t\\t\\t<li class=\"elementor-icon-list-item\" >\\n\\t\\t\\t\\t\\t\\t\\t\\t\\t\\t\\t<span class=\"elementor-icon-list-icon\">\\n\\t\\t\\t\\t\\t\\t\\t\\t\\t\\t\\t\\t\\t\\t\\t\\t<i class=\"fa fa-language\" aria-hidden=\"true\"></i>\\n\\t\\t\\t\\t\\t\\t\\t\\t\\t\\t\\t\\t\\t</span>\\n\\t\\t\\t\\t\\t\\t\\t\\t\\t\\t<span class=\"elementor-icon-list-text\">Learn JAVA</span>\\n\\t\\t\\t\\t\\t\\t\\t\\t\\t</li>\\n\\t\\t\\t\\t\\t\\t\\t\\t<li class=\"elementor-icon-list-item\" >\\n\\t\\t\\t\\t\\t\\t\\t\\t\\t\\t\\t<span class=\"elementor-icon-list-icon\">\\n\\t\\t\\t\\t\\t\\t\\t\\t\\t\\t\\t\\t\\t\\t\\t\\t<i class=\"fa fa-language\" aria-hidden=\"true\"></i>\\n\\t\\t\\t\\t\\t\\t\\t\\t\\t\\t\\t\\t\\t</span>\\n\\t\\t\\t\\t\\t\\t\\t\\t\\t\\t<span class=\"elementor-icon-list-text\">Learn .Net Programming</span>\\n\\t\\t\\t\\t\\t\\t\\t\\t\\t</li>\\n\\t\\t\\t\\t\\t\\t\\t\\t<li class=\"elementor-icon-list-item\" >\\n\\t\\t\\t\\t\\t\\t\\t\\t\\t\\t\\t<span class=\"elementor-icon-list-icon\">\\n\\t\\t\\t\\t\\t\\t\\t\\t\\t\\t\\t\\t\\t\\t\\t\\t<i class=\"fa fa-language\" aria-hidden=\"true\"></i>\\n\\t\\t\\t\\t\\t\\t\\t\\t\\t\\t\\t\\t\\t</span>\\n\\t\\t\\t\\t\\t\\t\\t\\t\\t\\t<span class=\"elementor-icon-list-text\">Learn Python</span>\\n\\t\\t\\t\\t\\t\\t\\t\\t\\t</li>\\n\\t\\t\\t\\t\\t\\t\\t\\t<li class=\"elementor-icon-list-item\" >\\n\\t\\t\\t\\t\\t\\t\\t\\t\\t\\t\\t<span class=\"elementor-icon-list-icon\">\\n\\t\\t\\t\\t\\t\\t\\t\\t\\t\\t\\t\\t\\t\\t\\t\\t<i class=\"fa fa-language\" aria-hidden=\"true\"></i>\\n\\t\\t\\t\\t\\t\\t\\t\\t\\t\\t\\t\\t\\t</span>\\n\\t\\t\\t\\t\\t\\t\\t\\t\\t\\t<span class=\"elementor-icon-list-text\">Prepare GATE Exam</span>\\n\\t\\t\\t\\t\\t\\t\\t\\t\\t</li>\\n\\t\\t\\t\\t\\t\\t\\t\\t<li class=\"elementor-icon-list-item\" >\\n\\t\\t\\t\\t\\t\\t\\t\\t\\t\\t\\t<span class=\"elementor-icon-list-icon\">\\n\\t\\t\\t\\t\\t\\t\\t\\t\\t\\t\\t\\t\\t\\t\\t\\t<i class=\"fa fa-language\" aria-hidden=\"true\"></i>\\n\\t\\t\\t\\t\\t\\t\\t\\t\\t\\t\\t\\t\\t</span>\\n\\t\\t\\t\\t\\t\\t\\t\\t\\t\\t<span class=\"elementor-icon-list-text\">HTML5 and CSS</span>\\n\\t\\t\\t\\t\\t\\t\\t\\t\\t</li>\\n\\t\\t\\t\\t\\t\\t\\t\\t<li class=\"elementor-icon-list-item\" >\\n\\t\\t\\t\\t\\t\\t\\t\\t\\t\\t\\t<span class=\"elementor-icon-list-icon\">\\n\\t\\t\\t\\t\\t\\t\\t\\t\\t\\t\\t\\t\\t\\t\\t\\t<i class=\"fa fa-language\" aria-hidden=\"true\"></i>\\n\\t\\t\\t\\t\\t\\t\\t\\t\\t\\t\\t\\t\\t</span>\\n\\t\\t\\t\\t\\t\\t\\t\\t\\t\\t<span class=\"elementor-icon-list-text\">Learn Databases (MySQL)</span>\\n\\t\\t\\t\\t\\t\\t\\t\\t\\t</li>\\n\\t\\t\\t\\t\\t\\t</ul>\\n\\t\\t\\t\\t</div>\\n\\t\\t\\t\\t</div>\\n\\t\\t\\t\\t\\t\\t</div>\\n\\t\\t\\t</div>\\n\\t\\t</div>\\n\\t\\t\\t\\t\\t\\t</div>\\n\\t\\t\\t</div>\\n\\t\\t</section>\\n\\t\\t\\t\\t<section class=\"elementor-element elementor-element-42d25fb elementor-section-boxed elementor-section-height-default elementor-section-height-default elementor-section elementor-top-section\" data-id=\"42d25fb\" data-element_type=\"section\">\\n\\t\\t\\t\\t\\t\\t<div class=\"elementor-container elementor-column-gap-default\">\\n\\t\\t\\t\\t<div class=\"elementor-row\">\\n\\t\\t\\t\\t<div class=\"elementor-element elementor-element-4964cc5 elementor-column elementor-col-100 elementor-top-column\" data-id=\"4964cc5\" data-element_type=\"column\">\\n\\t\\t\\t<div class=\"elementor-column-wrap  elementor-element-populated\">\\n\\t\\t\\t\\t\\t<div class=\"elementor-widget-wrap\">\\n\\t\\t\\t\\t<div class=\"elementor-element elementor-element-ddd1ed2 elementor-arrows-position-inside elementor-pagination-position-outside elementor-widget elementor-widget-image-carousel\" data-id=\"ddd1ed2\" data-element_type=\"widget\" data-settings=\"{&quot;navigation&quot;:&quot;both&quot;,&quot;autoplay&quot;:&quot;yes&quot;,&quot;pause_on_hover&quot;:&quot;yes&quot;,&quot;pause_on_interaction&quot;:&quot;yes&quot;,&quot;autoplay_speed&quot;:5000,&quot;infinite&quot;:&quot;yes&quot;,&quot;speed&quot;:500,&quot;direction&quot;:&quot;ltr&quot;}\" data-widget_type=\"image-carousel.default\">\\n\\t\\t\\t\\t<div class=\"elementor-widget-container\">\\n\\t\\t\\t\\t\\t<div class=\"elementor-image-carousel-wrapper swiper-container\" dir=\"ltr\">\\n\\t\\t\\t<div class=\"elementor-image-carousel swiper-wrapper\">\\n\\t\\t\\t\\t<div class=\"swiper-slide\"><figure class=\"swiper-slide-inner\"><img class=\"swiper-slide-image\" src=\"https://www.simplycs.in/wp-content/uploads/2018/09/Other-python-icon-150x150.png\" alt=\"Other-python-icon\" /></figure></div><div class=\"swiper-slide\"><figure class=\"swiper-slide-inner\"><img class=\"swiper-slide-image\" src=\"https://www.simplycs.in/wp-content/uploads/2018/09/Network-Linux-Client-icon-1-150x150.png\" alt=\"Network-Linux-Client-icon (1)\" /></figure></div><div class=\"swiper-slide\"><figure class=\"swiper-slide-inner\"><img class=\"swiper-slide-image\" src=\"https://www.simplycs.in/wp-content/uploads/2018/02/site-map-banner1-150x150.jpg\" alt=\"site-map-banner[1]\" /></figure></div><div class=\"swiper-slide\"><figure class=\"swiper-slide-inner\"><img class=\"swiper-slide-image\" src=\"https://www.simplycs.in/wp-content/uploads/2018/01/WampServer-logo1-150x150.png\" alt=\"WampServer-logo[1]\" /></figure></div><div class=\"swiper-slide\"><figure class=\"swiper-slide-inner\"><img class=\"swiper-slide-image\" src=\"https://www.simplycs.in/wp-content/uploads/2018/01/1200px-MySQL.svg_-150x150.png\" alt=\"1200px-MySQL.svg\" /></figure></div><div class=\"swiper-slide\"><figure class=\"swiper-slide-inner\"><img class=\"swiper-slide-image\" src=\"https://www.simplycs.in/wp-content/uploads/2018/01/Data20Science20training20in20India1-150x150.png\" alt=\"DataSciencetraininginIndia[1]\" /></figure></div><div class=\"swiper-slide\"><figure class=\"swiper-slide-inner\"><img class=\"swiper-slide-image\" src=\"https://www.simplycs.in/wp-content/uploads/2017/09/data-structure-150x150.png\" alt=\"data structure\" /></figure></div><div class=\"swiper-slide\"><figure class=\"swiper-slide-inner\"><img class=\"swiper-slide-image\" src=\"https://www.simplycs.in/wp-content/uploads/2017/06/images-150x150.jpg\" alt=\"images\" /></figure></div><div class=\"swiper-slide\"><figure class=\"swiper-slide-inner\"><img class=\"swiper-slide-image\" src=\"https://www.simplycs.in/wp-content/uploads/2017/09/xamarin-mini-logo-150x150.jpg\" alt=\"xamarin-mini-logo\" /></figure></div><div class=\"swiper-slide\"><figure class=\"swiper-slide-inner\"><img class=\"swiper-slide-image\" src=\"https://www.simplycs.in/wp-content/uploads/2018/01/5848185bcef1014c0b5e49a4-150x150.png\" alt=\"5848185bcef1014c0b5e49a4\" /></figure></div>\\t\\t\\t</div>\\n\\t\\t\\t\\t\\t\\t\\t\\t\\t\\t\\t\\t<div class=\"swiper-pagination\"></div>\\n\\t\\t\\t\\t\\t\\t\\t\\t\\t\\t\\t\\t\\t<div class=\"elementor-swiper-button elementor-swiper-button-prev\">\\n\\t\\t\\t\\t\\t\\t<i class=\"eicon-chevron-left\" aria-hidden=\"true\"></i>\\n\\t\\t\\t\\t\\t\\t<span class=\"elementor-screen-only\">Previous</span>\\n\\t\\t\\t\\t\\t</div>\\n\\t\\t\\t\\t\\t<div class=\"elementor-swiper-button elementor-swiper-button-next\">\\n\\t\\t\\t\\t\\t\\t<i class=\"eicon-chevron-right\" aria-hidden=\"true\"></i>\\n\\t\\t\\t\\t\\t\\t<span class=\"elementor-screen-only\">Next</span>\\n\\t\\t\\t\\t\\t</div>\\n\\t\\t\\t\\t\\t\\t\\t\\t\\t</div>\\n\\t\\t\\t\\t</div>\\n\\t\\t\\t\\t</div>\\n\\t\\t\\t\\t\\t\\t</div>\\n\\t\\t\\t</div>\\n\\t\\t</div>\\n\\t\\t\\t\\t\\t\\t</div>\\n\\t\\t\\t</div>\\n\\t\\t</section>\\n\\t\\t\\t\\t<section class=\"elementor-element elementor-element-8549a4d elementor-section-boxed elementor-section-height-default elementor-section-height-default elementor-section elementor-top-section\" data-id=\"8549a4d\" data-element_type=\"section\">\\n\\t\\t\\t\\t\\t\\t<div class=\"elementor-container elementor-column-gap-default\">\\n\\t\\t\\t\\t<div class=\"elementor-row\">\\n\\t\\t\\t\\t<div class=\"elementor-element elementor-element-06139e9 elementor-column elementor-col-100 elementor-top-column\" data-id=\"06139e9\" data-element_type=\"column\">\\n\\t\\t\\t<div class=\"elementor-column-wrap  elementor-element-populated\">\\n\\t\\t\\t\\t\\t<div class=\"elementor-widget-wrap\">\\n\\t\\t\\t\\t<div class=\"elementor-element elementor-element-ff3066e elementor-aspect-ratio-169 elementor-widget elementor-widget-video\" data-id=\"ff3066e\" data-element_type=\"widget\" data-settings=\"{&quot;aspect_ratio&quot;:&quot;169&quot;}\" data-widget_type=\"video.default\">\\n\\t\\t\\t\\t<div class=\"elementor-widget-container\">\\n\\t\\t\\t\\t\\t<div class=\"elementor-wrapper elementor-fit-aspect-ratio elementor-open-inline\">\\n\\t\\t\\t<iframe class=\"elementor-video-iframe\" allowfullscreen title=\"youtube Video Player\" src=\"https://www.youtube.com/embed/ZdOQu9fwaIs?feature=oembed&amp;start&amp;end&amp;wmode=opaque&amp;loop=0&amp;controls=1&amp;mute=0&amp;rel=0&amp;modestbranding=0\"></iframe>\\t\\t</div>\\n\\t\\t\\t\\t</div>\\n\\t\\t\\t\\t</div>\\n\\t\\t\\t\\t\\t\\t</div>\\n\\t\\t\\t</div>\\n\\t\\t</div>\\n\\t\\t\\t\\t\\t\\t</div>\\n\\t\\t\\t</div>\\n\\t\\t</section>\\n\\t\\t\\t\\t<section class=\"elementor-element elementor-element-d1df059 elementor-section-boxed elementor-section-height-default elementor-section-height-default elementor-section elementor-top-section\" data-id=\"d1df059\" data-element_type=\"section\">\\n\\t\\t\\t\\t\\t\\t<div class=\"elementor-container elementor-column-gap-default\">\\n\\t\\t\\t\\t<div class=\"elementor-row\">\\n\\t\\t\\t\\t<div class=\"elementor-element elementor-element-75a4da4 elementor-column elementor-col-100 elementor-top-column\" data-id=\"75a4da4\" data-element_type=\"column\">\\n\\t\\t\\t<div class=\"elementor-column-wrap  elementor-element-populated\">\\n\\t\\t\\t\\t\\t<div class=\"elementor-widget-wrap\">\\n\\t\\t\\t\\t<div class=\"elementor-element elementor-element-25c0530 elementor-aspect-ratio-169 elementor-widget elementor-widget-video\" data-id=\"25c0530\" data-element_type=\"widget\" data-settings=\"{&quot;aspect_ratio&quot;:&quot;169&quot;}\" data-widget_type=\"video.default\">\\n\\t\\t\\t\\t<div class=\"elementor-widget-container\">\\n\\t\\t\\t\\t\\t<div class=\"elementor-wrapper elementor-fit-aspect-ratio elementor-open-inline\">\\n\\t\\t\\t<iframe class=\"elementor-video-iframe\" allowfullscreen title=\"youtube Video Player\" src=\"https://www.youtube.com/embed/XRfk4lGCPLw?feature=oembed&amp;start&amp;end&amp;wmode=opaque&amp;loop=0&amp;controls=1&amp;mute=0&amp;rel=0&amp;modestbranding=0\"></iframe>\\t\\t</div>\\n\\t\\t\\t\\t</div>\\n\\t\\t\\t\\t</div>\\n\\t\\t\\t\\t\\t\\t</div>\\n\\t\\t\\t</div>\\n\\t\\t</div>\\n\\t\\t\\t\\t\\t\\t</div>\\n\\t\\t\\t</div>\\n\\t\\t</section>\\n\\t\\t\\t\\t\\t\\t</div>\\n\\t\\t\\t</div>\\n\\t\\t</div>\\n\\t\\t\\t\\t\\t\\t\\t</div><!-- .entry-content -->\\n\\t</div><!-- .entry-content-wrapper -->\\n\\n\\t<footer class=\"entry-footer\">\\n\\t\\t\\t</footer><!-- .entry-footer -->\\n</article><!-- #post-## -->\\n\\n\\n\\t\\t\\t\\t\\n\\t\\t\\t\\n\\t\\t</main><!-- #main -->\\n\\t</div><!-- #primary -->\\n\\n<div id=\"sidebar-primary\" class=\"widget-area sidebar\" role=\"complementary\">\\n\\t\\t\\t<aside id=\"nav_menu-5\" class=\"widget widget_nav_menu\"><h2 class=\"widget-title\">Menu</h2><div class=\"menu-side-menu-container\"><ul id=\"menu-side-menu\" class=\"menu\"><li id=\"menu-item-235\" class=\"menu-item menu-item-type-custom menu-item-object-custom current-menu-item current_page_item menu-item-home menu-item-235\"><a href=\"https://www.simplycs.in\" aria-current=\"page\">Home</a></li>\\n<li id=\"menu-item-435\" class=\"menu-item menu-item-type-post_type menu-item-object-page menu-item-435\"><a href=\"https://www.simplycs.in/elementor-412/\">Prepare for GATE Exam</a></li>\\n<li id=\"menu-item-796\" class=\"menu-item menu-item-type-taxonomy menu-item-object-category menu-item-796\"><a href=\"https://www.simplycs.in/category/spa/\">Structured Programming Approach</a></li>\\n<li id=\"menu-item-795\" class=\"menu-item menu-item-type-taxonomy menu-item-object-category menu-item-795\"><a href=\"https://www.simplycs.in/category/human-machine-interface/\">Human Machine Interface</a></li>\\n<li id=\"menu-item-441\" class=\"menu-item menu-item-type-taxonomy menu-item-object-category menu-item-441\"><a href=\"https://www.simplycs.in/category/learn-linux-unix/\">Learn Linux /Unix</a></li>\\n<li id=\"menu-item-712\" class=\"menu-item menu-item-type-taxonomy menu-item-object-category menu-item-712\"><a href=\"https://www.simplycs.in/category/rtos/\">Real-Time OS</a></li>\\n<li id=\"menu-item-234\" class=\"menu-item menu-item-type-post_type menu-item-object-page menu-item-234\"><a href=\"https://www.simplycs.in/sample-page/\">About Us</a></li>\\n<li id=\"menu-item-256\" class=\"menu-item menu-item-type-post_type menu-item-object-page menu-item-256\"><a href=\"https://www.simplycs.in/site-map/\">Site Map</a></li>\\n<li id=\"menu-item-233\" class=\"menu-item menu-item-type-post_type menu-item-object-page menu-item-233\"><a href=\"https://www.simplycs.in/contact-us/\">Contact Us</a></li>\\n</ul></div></aside><aside id=\"nav_menu-3\" class=\"widget widget_nav_menu\"><h2 class=\"widget-title\">Category</h2><div class=\"menu-primary-menu-container\"><ul id=\"menu-primary-menu-1\" class=\"menu\"><li class=\"menu-item menu-item-type-taxonomy menu-item-object-category menu-item-15\"><a href=\"https://www.simplycs.in/category/c/\">Learn C</a></li>\\n<li class=\"menu-item menu-item-type-taxonomy menu-item-object-category menu-item-16\"><a href=\"https://www.simplycs.in/category/learn-c/\">Learn C++</a></li>\\n<li class=\"menu-item menu-item-type-taxonomy menu-item-object-category menu-item-17\"><a href=\"https://www.simplycs.in/category/data-structure/\">Data Structure</a></li>\\n<li class=\"menu-item menu-item-type-taxonomy menu-item-object-category menu-item-19\"><a href=\"https://www.simplycs.in/category/java/\">Learn Java</a></li>\\n<li class=\"menu-item menu-item-type-taxonomy menu-item-object-category menu-item-20\"><a href=\"https://www.simplycs.in/category/net/\">Learn .Net</a></li>\\n<li class=\"menu-item menu-item-type-taxonomy menu-item-object-category menu-item-197\"><a href=\"https://www.simplycs.in/category/database-mysql/\">Database</a></li>\\n<li class=\"menu-item menu-item-type-taxonomy menu-item-object-category menu-item-198\"><a href=\"https://www.simplycs.in/category/learn-python/\">Learn Python</a></li>\\n<li class=\"menu-item menu-item-type-taxonomy menu-item-object-category menu-item-186\"><a href=\"https://www.simplycs.in/category/learn-opencart/\">OpenCart</a></li>\\n<li class=\"menu-item menu-item-type-taxonomy menu-item-object-category menu-item-187\"><a href=\"https://www.simplycs.in/category/learn-data-science/\">Data Science</a></li>\\n<li class=\"menu-item menu-item-type-taxonomy menu-item-object-category menu-item-18\"><a href=\"https://www.simplycs.in/category/all/\">All</a></li>\\n</ul></div></aside><aside id=\"linten-latest-news-4\" class=\"widget linten_widget_latest_news\"><h2 class=\"widget-title\">Latest</h2>\\t\\t\\t\\n\\t\\t\\t\\t\\n\\t\\t\\t\\t<div class=\"latest-news-widget latest-news-col-4\">\\n\\n\\t\\t\\t\\t\\t<div class=\"inner-wrapper\">\\n\\n\\t\\t\\t\\t\\t\\t\\t\\t\\t\\t\\t\\t\\t\\n\\t\\t\\t\\t\\t\\t\\t<div class=\"latest-news-item\">\\n\\n\\t\\t\\t\\t\\t\\t\\t\\t\\t\\t\\t\\t\\t\\t\\t\\t\\t\\t\\t<div class=\"latest-news-thumb\">\\n\\t\\t\\t\\t\\t\\t\\t\\t\\t\\t\\t<a href=\"https://www.simplycs.in/2019/01/12/spa-syllabus-course-hand-out-extra-practical-list-and-lab-manual/\">\\n\\t\\t\\t\\t\\t\\t\\t\\t\\t\\t\\t\\t<img width=\"180\" height=\"47\" src=\"https://www.simplycs.in/wp-content/uploads/2019/01/9780199475520.jpg\" class=\"aligncenter wp-post-image\" alt=\"\" />\\t\\t\\t\\t\\t\\t\\t\\t\\t\\t\\t</a>\\n\\t\\t\\t\\t\\t\\t\\t\\t\\t\\t</div><!-- .latest-news-thumb -->\\n\\t\\t\\t\\t\\t\\t\\t\\t\\t\\t\\t\\t\\t\\t\\t\\t\\t\\t<div class=\"latest-news-text-wrap\">\\n\\n\\t\\t\\t\\t\\t\\t\\t\\t\\t\\t<div class=\"latest-news-text-content\">\\n\\t\\t\\t\\t\\t\\t\\t\\t\\t\\t\\t<h3 class=\"latest-news-title\">\\n\\t\\t\\t\\t\\t\\t\\t\\t\\t\\t\\t\\t<a href=\"https://www.simplycs.in/2019/01/12/spa-syllabus-course-hand-out-extra-practical-list-and-lab-manual/\">SPA &#8211; Syllabus, Course Hand-out, Extra Practical List and Lab Manual</a>\\n\\t\\t\\t\\t\\t\\t\\t\\t\\t\\t\\t</h3><!-- .latest-news-title -->\\n\\n\\t\\t\\t\\t\\t\\t\\t\\t\\t\\t\\t\\t\\t\\t\\t\\t\\t\\t\\t\\t\\t\\t\\t<div class=\"latest-news-summary\">\\n\\t\\t\\t\\t\\t\\t\\t\\t\\t\\t\\t\\t<p>Click here to Download to SPA Syllabus Click here to Download SPA Extra List of...</p>\\n\\t\\t\\t\\t\\t\\t\\t\\t\\t\\t\\t\\t</div><!-- .latest-news-summary -->\\n\\t\\t\\t\\t\\t\\t\\t\\t\\t\\t\\t\\t\\t\\t\\t\\t\\t\\t\\t\\t\\t</div><!-- .latest-news-text-content -->\\n\\n\\t\\t\\t\\t\\t\\t\\t\\t\\t\\t\\t\\t\\t\\t\\t\\t\\t\\t\\t\\t\\t<div class=\"latest-news-meta\">\\n\\t\\t\\t\\t\\t\\t\\t\\t\\t\\t\\t\\t<ul>\\n\\t\\t\\t\\t\\t\\t\\t\\t\\t\\t\\t\\t\\t\\t\\t\\t\\t\\t\\t\\t\\t\\t\\t\\t\\t\\t\\t<li><span class=\"latest-news-date\">12 Jan 2019</span></li>\\n\\t\\t\\t\\t\\t\\t\\t\\t\\t\\t\\t\\t\\t\\t\\t\\t\\t\\t\\t\\t\\t\\t\\t\\t\\t\\t\\t\\t\\t\\t\\t\\t\\t\\t\\t\\t\\t\\t\\t\\t<li><a href=\"https://www.simplycs.in/2019/01/12/spa-syllabus-course-hand-out-extra-practical-list-and-lab-manual/\" class=\"custom-button\">Read more<span class=\"screen-reader-text\">\"SPA &#8211; Syllabus, Course Hand-out, Extra Practical List and Lab Manual\"</span>\\n\\t\\t\\t\\t\\t\\t\\t\\t\\t\\t\\t\\t\\t\\t</a></li>\\n\\t\\t\\t\\t\\t\\t\\t\\t\\t\\t\\t\\t\\t\\t\\t\\t\\t\\t\\t\\t\\t\\t\\t\\t\\t</ul>\\n\\t\\t\\t\\t\\t\\t\\t\\t\\t\\t\\t</div><!-- .latest-news-meta -->\\n\\t\\t\\t\\t\\t\\t\\t\\t\\t\\t\\n\\t\\t\\t\\t\\t\\t\\t\\t\\t</div><!-- .latest-news-text-wrap -->\\n\\n\\t\\t\\t\\t\\t\\t\\t</div><!-- .latest-news-item -->\\n\\n\\t\\t\\t\\t\\t\\t\\t\\t\\t\\t\\t\\t\\t\\n\\t\\t\\t\\t\\t\\t\\t<div class=\"latest-news-item\">\\n\\n\\t\\t\\t\\t\\t\\t\\t\\t\\t\\t\\t\\t\\t\\t\\t\\t\\t\\t<div class=\"latest-news-text-wrap\">\\n\\n\\t\\t\\t\\t\\t\\t\\t\\t\\t\\t<div class=\"latest-news-text-content\">\\n\\t\\t\\t\\t\\t\\t\\t\\t\\t\\t\\t<h3 class=\"latest-news-title\">\\n\\t\\t\\t\\t\\t\\t\\t\\t\\t\\t\\t\\t<a href=\"https://www.simplycs.in/2018/11/17/what-is-virtualization/\">What  is Virtualization???</a>\\n\\t\\t\\t\\t\\t\\t\\t\\t\\t\\t\\t</h3><!-- .latest-news-title -->\\n\\n\\t\\t\\t\\t\\t\\t\\t\\t\\t\\t\\t\\t\\t\\t\\t\\t\\t\\t\\t\\t\\t\\t\\t<div class=\"latest-news-summary\">\\n\\t\\t\\t\\t\\t\\t\\t\\t\\t\\t\\t\\t<p>What\\xa0 is\\xa0 Virtualization ?? Virtualization is similar to utilizing the same resources without even knowing...</p>\\n\\t\\t\\t\\t\\t\\t\\t\\t\\t\\t\\t\\t</div><!-- .latest-news-summary -->\\n\\t\\t\\t\\t\\t\\t\\t\\t\\t\\t\\t\\t\\t\\t\\t\\t\\t\\t\\t\\t\\t</div><!-- .latest-news-text-content -->\\n\\n\\t\\t\\t\\t\\t\\t\\t\\t\\t\\t\\t\\t\\t\\t\\t\\t\\t\\t\\t\\t\\t<div class=\"latest-news-meta\">\\n\\t\\t\\t\\t\\t\\t\\t\\t\\t\\t\\t\\t<ul>\\n\\t\\t\\t\\t\\t\\t\\t\\t\\t\\t\\t\\t\\t\\t\\t\\t\\t\\t\\t\\t\\t\\t\\t\\t\\t\\t\\t<li><span class=\"latest-news-date\">17 Nov 2018</span></li>\\n\\t\\t\\t\\t\\t\\t\\t\\t\\t\\t\\t\\t\\t\\t\\t\\t\\t\\t\\t\\t\\t\\t\\t\\t\\t\\t\\t\\t\\t\\t\\t\\t\\t\\t\\t\\t\\t\\t\\t\\t<li><a href=\"https://www.simplycs.in/2018/11/17/what-is-virtualization/\" class=\"custom-button\">Read more<span class=\"screen-reader-text\">\"What  is Virtualization???\"</span>\\n\\t\\t\\t\\t\\t\\t\\t\\t\\t\\t\\t\\t\\t\\t</a></li>\\n\\t\\t\\t\\t\\t\\t\\t\\t\\t\\t\\t\\t\\t\\t\\t\\t\\t\\t\\t\\t\\t\\t\\t\\t\\t</ul>\\n\\t\\t\\t\\t\\t\\t\\t\\t\\t\\t\\t</div><!-- .latest-news-meta -->\\n\\t\\t\\t\\t\\t\\t\\t\\t\\t\\t\\n\\t\\t\\t\\t\\t\\t\\t\\t\\t</div><!-- .latest-news-text-wrap -->\\n\\n\\t\\t\\t\\t\\t\\t\\t</div><!-- .latest-news-item -->\\n\\n\\t\\t\\t\\t\\t\\t\\n\\t\\t\\t\\t\\t</div><!-- .row -->\\n\\n\\t\\t\\t\\t</div><!-- .latest-news-widget -->\\n\\n\\t\\t\\t\\t\\n\\t\\t\\t\\n\\t\\t\\t</aside><aside id=\"text-4\" class=\"widget widget_text\"><h2 class=\"widget-title\">SimplyCS Android App</h2>\\t\\t\\t<div class=\"textwidget\"><p><strong><a href=\"https://play.google.com/store/apps/details?id=com.wSimplyCS_5757107&amp;hl=en\">Download SimplyCS Android App</a></strong></p>\\n<p><strong>Or You can Download it from Google Play Store by searching &#8220;SimplyCS&#8221;.</strong></p>\\n</div>\\n\\t\\t</aside><aside id=\"media_video-3\" class=\"widget widget_media_video\"><h2 class=\"widget-title\">Subscribe SimplyCS on Youtube</h2><div style=\"width:100%;\" class=\"wp-video\"><!--[if lt IE 9]><script>document.createElement(\\'video\\');</script><![endif]-->\\n<video class=\"wp-video-shortcode\" id=\"video-376-1\" loop=\"1\" preload=\"metadata\" controls=\"controls\"><source type=\"video/youtube\" src=\"https://www.youtube.com/watch?v=FRb7Y9ArYaM&#038;_=1\" /><a href=\"https://www.youtube.com/watch?v=FRb7Y9ArYaM\">https://www.youtube.com/watch?v=FRb7Y9ArYaM</a></video></div></aside>\\t</div><!-- #sidebar-primary -->\\n\\n\\n</div><!-- .inner-wrapper --></div><!-- .container --></div><!-- #content -->\\n\\t<div  id=\"footer-widgets\" ><div class=\"container\"><div class=\"inner-wrapper\"><div class=\"footer-active-3 footer-widget-area\">\\t\\t<aside id=\"recent-posts-5\" class=\"widget widget_recent_entries\">\\t\\t<h3 class=\"widget-title\">Recent Posts</h2>\\t\\t<ul>\\n\\t\\t\\t\\t\\t\\t\\t\\t\\t\\t\\t<li>\\n\\t\\t\\t\\t\\t<a href=\"https://www.simplycs.in/2020/02/26/what-is-function-in-c-how-the-function-is-created-how-to-pass-parameters-to-function/\">What is Function in C? How the Function is Created? How to pass parameters to function?</a>\\n\\t\\t\\t\\t\\t\\t\\t\\t\\t</li>\\n\\t\\t\\t\\t\\t\\t\\t\\t\\t\\t\\t<li>\\n\\t\\t\\t\\t\\t<a href=\"https://www.simplycs.in/2020/01/20/how-to-generate-our-own-qr-code-in-python/\">How to generate our Own QR Code in Python</a>\\n\\t\\t\\t\\t\\t\\t\\t\\t\\t</li>\\n\\t\\t\\t\\t\\t\\t\\t\\t\\t\\t\\t<li>\\n\\t\\t\\t\\t\\t<a href=\"https://www.simplycs.in/2019/09/04/pmmmnmtt-sponsored-faculty-development-program-on-data-science-using-python-jointly-organized-by-shivaji-university-and-rait-nerul-navi-mumbai/\">PMMMNMTT Sponsored Faculty Development Program on &#8220;Data Science Using Python&#8221; Jointly Organized by Shivaji University and RAIT, Nerul, Navi Mumbai</a>\\n\\t\\t\\t\\t\\t\\t\\t\\t\\t</li>\\n\\t\\t\\t\\t\\t\\t\\t\\t\\t\\t\\t<li>\\n\\t\\t\\t\\t\\t<a href=\"https://www.simplycs.in/2019/04/07/what-is-jmeter/\">What is JMeter ???</a>\\n\\t\\t\\t\\t\\t\\t\\t\\t\\t</li>\\n\\t\\t\\t\\t\\t\\t\\t\\t\\t\\t\\t<li>\\n\\t\\t\\t\\t\\t<a href=\"https://www.simplycs.in/2019/03/16/hmi-design-guidlines-gestalt-principals-long-term-memory-vs-short-term-memory/\">HMI- Design Guidlines, Gestalt Principals, Long term Memory Vs Short Term Memory</a>\\n\\t\\t\\t\\t\\t\\t\\t\\t\\t</li>\\n\\t\\t\\t\\t\\t\\t\\t\\t\\t\\t\\t<li>\\n\\t\\t\\t\\t\\t<a href=\"https://www.simplycs.in/2019/03/16/hmi-graphical-user-interface-benefits-of-good-gui-gui-vs-web-ui/\">HMI- Graphical User Interface, Benefits of Good GUI, GUI vs Web UI</a>\\n\\t\\t\\t\\t\\t\\t\\t\\t\\t</li>\\n\\t\\t\\t\\t\\t\\t\\t\\t\\t\\t\\t<li>\\n\\t\\t\\t\\t\\t<a href=\"https://www.simplycs.in/2019/01/29/hmi-l13-16-users-types-of-users-understanding-users/\">HMI &#8211; Users, Types of Users, Understanding Users</a>\\n\\t\\t\\t\\t\\t\\t\\t\\t\\t</li>\\n\\t\\t\\t\\t\\t\\t\\t\\t\\t\\t\\t<li>\\n\\t\\t\\t\\t\\t<a href=\"https://www.simplycs.in/2019/01/27/constructor-in-cpp/\">Constructor In CPP</a>\\n\\t\\t\\t\\t\\t\\t\\t\\t\\t</li>\\n\\t\\t\\t\\t\\t\\t\\t\\t\\t\\t\\t<li>\\n\\t\\t\\t\\t\\t<a href=\"https://www.simplycs.in/2019/01/25/lets-begin-by-knowing-what-is-python/\">Let’s Begin By Knowing What is Python?</a>\\n\\t\\t\\t\\t\\t\\t\\t\\t\\t</li>\\n\\t\\t\\t\\t\\t\\t\\t\\t\\t\\t\\t<li>\\n\\t\\t\\t\\t\\t<a href=\"https://www.simplycs.in/2019/01/22/human-machine-interaction-software-evolution-process-goal-oriented-design-implementation-model-mental-model/\">Human Machine Interaction – Software Evolution Process, Goal Oriented Design, Implementation Model, Mental Model</a>\\n\\t\\t\\t\\t\\t\\t\\t\\t\\t</li>\\n\\t\\t\\t\\t\\t</ul>\\n\\t\\t</aside></div><!-- .footer-widget-area --><div class=\"footer-active-3 footer-widget-area\"><aside id=\"mostreadpostswidget-2\" class=\"widget widget_mostreadpostswidget\"><h3 class=\"widget-title\">Most Read Posts</h2><ul class=\"mlrp_ul\">\\n        <li><a title=\"What is JMeter ???\" href=\"https://www.simplycs.in/2019/04/07/what-is-jmeter/\">What is JMeter ???</a>\\n\\t\\t\\t\\t\\t<span class=\"most_and_least_read_posts_hits\"></span>\\n          \\n\\t\\t\\t\\t</li>\\n        <li><a title=\"PMMMNMTT Sponsored Faculty Development Program on \"Data Science Using Python\" Jointly Organized by Shivaji University and RAIT, Nerul, Navi Mumbai\" href=\"https://www.simplycs.in/2019/09/04/pmmmnmtt-sponsored-faculty-development-program-on-data-science-using-python-jointly-organized-by-shivaji-university-and-rait-nerul-navi-mumbai/\">PMMMNMTT Sponsored Faculty Development Program on \"Data Science Using Python\" Jointly Organized by Shivaji University and RAIT, Nerul, Navi Mumbai</a>\\n\\t\\t\\t\\t\\t<span class=\"most_and_least_read_posts_hits\"></span>\\n          \\n\\t\\t\\t\\t</li>\\n        <li><a title=\"How to generate our Own QR Code in Python\" href=\"https://www.simplycs.in/2020/01/20/how-to-generate-our-own-qr-code-in-python/\">How to generate our Own QR Code in Python</a>\\n\\t\\t\\t\\t\\t<span class=\"most_and_least_read_posts_hits\"></span>\\n          \\n\\t\\t\\t\\t</li>\\n        <li><a title=\"What is Function in C? How the Function is Created? How to pass parameters to function?\" href=\"https://www.simplycs.in/2020/02/26/what-is-function-in-c-how-the-function-is-created-how-to-pass-parameters-to-function/\">What is Function in C? How the Function is Created? How to pass parameters to function?</a>\\n\\t\\t\\t\\t\\t<span class=\"most_and_least_read_posts_hits\"></span>\\n          \\n\\t\\t\\t\\t</li></ul>\\n\\t\\t<div style=\"clear:both;\"></div></aside></div><!-- .footer-widget-area --><div class=\"footer-active-3 footer-widget-area\"><aside id=\"archives-4\" class=\"widget widget_archive\"><h3 class=\"widget-title\">Archives</h2>\\t\\t<ul>\\n\\t\\t\\t\\t<li><a href=\\'https://www.simplycs.in/2020/02/\\'>February 2020</a></li>\\n\\t<li><a href=\\'https://www.simplycs.in/2020/01/\\'>January 2020</a></li>\\n\\t<li><a href=\\'https://www.simplycs.in/2019/09/\\'>September 2019</a></li>\\n\\t<li><a href=\\'https://www.simplycs.in/2019/04/\\'>April 2019</a></li>\\n\\t<li><a href=\\'https://www.simplycs.in/2019/03/\\'>March 2019</a></li>\\n\\t<li><a href=\\'https://www.simplycs.in/2019/01/\\'>January 2019</a></li>\\n\\t<li><a href=\\'https://www.simplycs.in/2018/12/\\'>December 2018</a></li>\\n\\t<li><a href=\\'https://www.simplycs.in/2018/11/\\'>November 2018</a></li>\\n\\t<li><a href=\\'https://www.simplycs.in/2018/10/\\'>October 2018</a></li>\\n\\t<li><a href=\\'https://www.simplycs.in/2018/09/\\'>September 2018</a></li>\\n\\t<li><a href=\\'https://www.simplycs.in/2018/08/\\'>August 2018</a></li>\\n\\t<li><a href=\\'https://www.simplycs.in/2018/07/\\'>July 2018</a></li>\\n\\t<li><a href=\\'https://www.simplycs.in/2018/06/\\'>June 2018</a></li>\\n\\t<li><a href=\\'https://www.simplycs.in/2018/03/\\'>March 2018</a></li>\\n\\t<li><a href=\\'https://www.simplycs.in/2018/02/\\'>February 2018</a></li>\\n\\t<li><a href=\\'https://www.simplycs.in/2018/01/\\'>January 2018</a></li>\\n\\t<li><a href=\\'https://www.simplycs.in/2017/12/\\'>December 2017</a></li>\\n\\t<li><a href=\\'https://www.simplycs.in/2017/09/\\'>September 2017</a></li>\\n\\t<li><a href=\\'https://www.simplycs.in/2017/08/\\'>August 2017</a></li>\\n\\t<li><a href=\\'https://www.simplycs.in/2017/07/\\'>July 2017</a></li>\\n\\t<li><a href=\\'https://www.simplycs.in/2017/06/\\'>June 2017</a></li>\\n\\t<li><a href=\\'https://www.simplycs.in/2017/01/\\'>January 2017</a></li>\\n\\t\\t</ul>\\n\\t\\t\\t</aside></div><!-- .footer-widget-area --></div><!-- .inner-wrapper --></div><!-- .container --></div><footer id=\"colophon\" class=\"site-footer\" role=\"contentinfo\"><div class=\"container\">    \\n\\t\\t<div class=\"colophon-inner colophon-grid-3\">\\n\\n\\t\\t    \\t\\t\\t    <div class=\"colophon-column\">\\n\\t\\t\\t    \\t<div class=\"copyright\">\\n\\t\\t\\t    \\t\\tCopyright © All rights reserved by SimplyCS.\\t\\t\\t    \\t</div><!-- .copyright -->\\n\\t\\t\\t    </div><!-- .colophon-column -->\\n\\t\\t    \\n\\t\\t    \\t\\t    \\t<div class=\"colophon-column\">\\n\\t\\t\\t\\t\\t<div id=\"footer-navigation\" class=\"menu-side-menu-container\"><ul id=\"menu-side-menu-1\" class=\"menu\"><li class=\"menu-item menu-item-type-custom menu-item-object-custom current-menu-item current_page_item menu-item-home menu-item-235\"><a href=\"https://www.simplycs.in\" aria-current=\"page\">Home</a></li>\\n<li class=\"menu-item menu-item-type-post_type menu-item-object-page menu-item-435\"><a href=\"https://www.simplycs.in/elementor-412/\">Prepare for GATE Exam</a></li>\\n<li class=\"menu-item menu-item-type-taxonomy menu-item-object-category menu-item-796\"><a href=\"https://www.simplycs.in/category/spa/\">Structured Programming Approach</a></li>\\n<li class=\"menu-item menu-item-type-taxonomy menu-item-object-category menu-item-795\"><a href=\"https://www.simplycs.in/category/human-machine-interface/\">Human Machine Interface</a></li>\\n<li class=\"menu-item menu-item-type-taxonomy menu-item-object-category menu-item-441\"><a href=\"https://www.simplycs.in/category/learn-linux-unix/\">Learn Linux /Unix</a></li>\\n<li class=\"menu-item menu-item-type-taxonomy menu-item-object-category menu-item-712\"><a href=\"https://www.simplycs.in/category/rtos/\">Real-Time OS</a></li>\\n<li class=\"menu-item menu-item-type-post_type menu-item-object-page menu-item-234\"><a href=\"https://www.simplycs.in/sample-page/\">About Us</a></li>\\n<li class=\"menu-item menu-item-type-post_type menu-item-object-page menu-item-256\"><a href=\"https://www.simplycs.in/site-map/\">Site Map</a></li>\\n<li class=\"menu-item menu-item-type-post_type menu-item-object-page menu-item-233\"><a href=\"https://www.simplycs.in/contact-us/\">Contact Us</a></li>\\n</ul></div>\\t\\t    \\t</div><!-- .colophon-column -->\\n\\t\\t    \\n\\t\\t    \\t\\t\\t    <div class=\"colophon-column\">\\n\\t\\t\\t    \\t<div class=\"site-info\">\\n\\t\\t\\t    \\t\\tSimplyCS Developed by <a target=\"_blank\" rel=\"designer\" href=\"http://www.extremeitsolutions.in/\">Extreme IT Solutions India</a>\\t\\t\\t    \\t</div><!-- .site-info -->\\n\\t\\t\\t    </div><!-- .colophon-column -->\\n\\t\\t    \\n\\t\\t</div><!-- .colophon-inner -->\\n\\n\\t    \\t</div><!-- .container --></footer><!-- #colophon -->\\n</div><!-- #page --><a href=\"#page\" class=\"scrollup\" id=\"btn-scrollup\"><i class=\"fa fa-angle-up\"></i></a>\\nLearn with India\\'s Popular Learning Site...!!!<script>\\r\\nwindow.addEventListener(\\'sfsi_functions_loaded\\', function() {\\r\\n    if (typeof sfsi_responsive_toggle == \\'function\\') {\\r\\n        sfsi_responsive_toggle(0);\\r\\n        // console.log(\\'sfsi_responsive_toggle\\');\\r\\n\\r\\n    }\\r\\n})\\r\\n</script>\\r\\n    <script>\\r\\n        window.addEventListener(\\'sfsi_functions_loaded\\', function() {\\r\\n            if (typeof sfsi_plugin_version == \\'function\\') {\\r\\n                sfsi_plugin_version(2.54);\\r\\n            }\\r\\n        });\\r\\n\\r\\n        function sfsi_processfurther(ref) {\\r\\n\\r\\n            var feed_id = \\'NUdmai9JRDN2SVhTWGg0b0FUZi9aSVRZNUV5VTZHcVQybmNSRzlNSG5yM1BiNFJsSW0rTC80QytDY0Z0Sm1SS0NCL3JYeHRGUENMNU5JNjFlWU5wWTlxeU05bUVyZlEyT2g3RFVFS3NyVWRIenFIOHR5U0tMdnkwVEwyY0VuK1R8YkJSUnFUSnBpRXNtWE0rLzRlcnFXcndacCs3N1lBaTJrT3JoQU1YVEJlST0=\\';\\r\\n            var feedtype = 8;\\r\\n\\r\\n            var email = jQuery(ref).find(\\'input[name=\"email\"]\\').val();\\r\\n\\r\\n            var filter = /^([a-zA-Z0-9_\\\\.\\\\-])+\\\\@(([a-zA-Z0-9\\\\-])+\\\\.)+([a-zA-Z0-9]{2,4})+$/;\\r\\n\\r\\n            if ((email != \"Enter your email\") && (filter.test(email))) {\\r\\n                if (feed_id != \"\") {\\r\\n\\r\\n                    if (feedtype == \"8\") {\\r\\n\\r\\n                        var url = \"https://api.follow.it/subscription-form/\" + feed_id + \"/\" + feedtype;\\r\\n\\r\\n                        window.open(\\'\\', \"popupwindow\", \"scrollbars=yes,width=1080,height=760\");\\r\\n\\r\\n                        ref.action = url;\\r\\n\\r\\n                        ref.target = \"popupwindow\";\\r\\n\\r\\n                        return true;\\r\\n\\r\\n                    } else {\\r\\n\\r\\n                        return false\\r\\n\\r\\n                    }\\r\\n\\r\\n                } else {\\r\\n\\r\\n                    alert(\"Please enter email address\");\\r\\n\\r\\n                    jQuery(ref).find(\\'input[name=\"email\"]\\').focus();\\r\\n\\r\\n                    return false;\\r\\n                }\\r\\n            }\\r\\n        }\\r\\n    </script>\\r\\n    <style type=\"text/css\" aria-selected=\"true\">\\r\\n        .sfsi_subscribe_Popinner {\\r\\n            width: 100% !important;\\r\\n\\r\\n            height: auto !important;\\r\\n\\r\\n            padding: 18px 0px !important;\\r\\n\\r\\n            background-color: #ffffff !important;\\r\\n\\r\\n        }\\r\\n\\r\\n        .sfsi_subscribe_Popinner form {\\r\\n\\r\\n            margin: 0 20px !important;\\r\\n\\r\\n        }\\r\\n\\r\\n        .sfsi_subscribe_Popinner h5 {\\r\\n\\r\\n            font-family: Helvetica,Arial,sans-serif !important;\\r\\n\\r\\n            font-weight: bold !important;\\r\\n\\r\\n            color: #000000 !important;\\r\\n\\r\\n            font-size: 16px !important;\\r\\n\\r\\n            text-align: center !important;\\r\\n\\r\\n            margin: 0 0 10px !important;\\r\\n\\r\\n            padding: 0 !important;\\r\\n\\r\\n        }\\r\\n\\r\\n        .sfsi_subscription_form_field {\\r\\n\\r\\n            margin: 5px 0 !important;\\r\\n\\r\\n            width: 100% !important;\\r\\n\\r\\n            display: inline-flex;\\r\\n\\r\\n            display: -webkit-inline-flex;\\r\\n\\r\\n        }\\r\\n\\r\\n        .sfsi_subscription_form_field input {\\r\\n\\r\\n            width: 100% !important;\\r\\n\\r\\n            padding: 10px 0px !important;\\r\\n\\r\\n        }\\r\\n\\r\\n        .sfsi_subscribe_Popinner input[type=email] {\\r\\n\\r\\n            font-family: Helvetica,Arial,sans-serif !important;\\r\\n\\r\\n            font-style: normal !important;\\r\\n\\r\\n            color: #000000 !important;\\r\\n\\r\\n            font-size: 14px !important;\\r\\n\\r\\n            text-align: center !important;\\r\\n\\r\\n        }\\r\\n\\r\\n        .sfsi_subscribe_Popinner input[type=email]::-webkit-input-placeholder {\\r\\n\\r\\n            font-family: Helvetica,Arial,sans-serif !important;\\r\\n\\r\\n            font-style: normal !important;\\r\\n\\r\\n            color: #000000 !important;\\r\\n\\r\\n            font-size: 14px !important;\\r\\n\\r\\n            text-align: center !important;\\r\\n\\r\\n        }\\r\\n\\r\\n        .sfsi_subscribe_Popinner input[type=email]:-moz-placeholder {\\r\\n            /* Firefox 18- */\\r\\n\\r\\n            font-family: Helvetica,Arial,sans-serif !important;\\r\\n\\r\\n            font-style: normal !important;\\r\\n\\r\\n            color: #000000 !important;\\r\\n\\r\\n            font-size: 14px !important;\\r\\n\\r\\n            text-align: center !important;\\r\\n\\r\\n        }\\r\\n\\r\\n        .sfsi_subscribe_Popinner input[type=email]::-moz-placeholder {\\r\\n            /* Firefox 19+ */\\r\\n\\r\\n            font-family: Helvetica,Arial,sans-serif !important;\\r\\n\\r\\n            font-style: normal !important;\\r\\n\\r\\n            color: #000000 !important;\\r\\n\\r\\n            font-size: 14px !important;\\r\\n\\r\\n            text-align: center !important;\\r\\n\\r\\n        }\\r\\n\\r\\n        .sfsi_subscribe_Popinner input[type=email]:-ms-input-placeholder {\\r\\n\\r\\n            font-family: Helvetica,Arial,sans-serif !important;\\r\\n\\r\\n            font-style: normal !important;\\r\\n\\r\\n            color: #000000 !important;\\r\\n\\r\\n            font-size: 14px !important;\\r\\n\\r\\n            text-align: center !important;\\r\\n\\r\\n        }\\r\\n\\r\\n        .sfsi_subscribe_Popinner input[type=submit] {\\r\\n\\r\\n            font-family: Helvetica,Arial,sans-serif !important;\\r\\n\\r\\n            font-weight: bold !important;\\r\\n\\r\\n            color: #000000 !important;\\r\\n\\r\\n            font-size: 16px !important;\\r\\n\\r\\n            text-align: center !important;\\r\\n\\r\\n            background-color: #dedede !important;\\r\\n\\r\\n        }\\r\\n\\r\\n        .sfsi_shortcode_container {\\r\\n            float: left;\\r\\n        }\\r\\n\\r\\n        .sfsi_shortcode_container .norm_row .sfsi_wDiv {\\r\\n            position: relative !important;\\r\\n        }\\r\\n\\r\\n        .sfsi_shortcode_container .sfsi_holders {\\r\\n            display: none;\\r\\n        }\\r\\n\\r\\n            </style>\\r\\n\\r\\n<link rel=\\'stylesheet\\' id=\\'mediaelement-css\\'  href=\\'https://www.simplycs.in/wp-includes/js/mediaelement/mediaelementplayer-legacy.min.css?ver=4.2.6-78496d1\\' type=\\'text/css\\' media=\\'all\\' />\\n<link rel=\\'stylesheet\\' id=\\'wp-mediaelement-css\\'  href=\\'https://www.simplycs.in/wp-includes/js/mediaelement/wp-mediaelement.min.css?ver=5.2.5\\' type=\\'text/css\\' media=\\'all\\' />\\n<script type=\\'text/javascript\\' src=\\'https://www.simplycs.in/wp-includes/js/jquery/ui/core.min.js?ver=1.11.4\\'></script>\\n<script type=\\'text/javascript\\' src=\\'https://www.simplycs.in/wp-content/plugins/ultimate-social-media-icons/js/shuffle/modernizr.custom.min.js?ver=5.2.5\\'></script>\\n<script type=\\'text/javascript\\' src=\\'https://www.simplycs.in/wp-content/plugins/ultimate-social-media-icons/js/shuffle/jquery.shuffle.min.js?ver=5.2.5\\'></script>\\n<script type=\\'text/javascript\\' src=\\'https://www.simplycs.in/wp-content/plugins/ultimate-social-media-icons/js/shuffle/random-shuffle-min.js?ver=5.2.5\\'></script>\\n<script type=\\'text/javascript\\'>\\n/* <![CDATA[ */\\nvar sfsi_icon_ajax_object = {\"ajax_url\":\"https:\\\\/\\\\/www.simplycs.in\\\\/wp-admin\\\\/admin-ajax.php\"};\\nvar sfsi_icon_ajax_object = {\"ajax_url\":\"https:\\\\/\\\\/www.simplycs.in\\\\/wp-admin\\\\/admin-ajax.php\",\"plugin_url\":\"https:\\\\/\\\\/www.simplycs.in\\\\/wp-content\\\\/plugins\\\\/ultimate-social-media-icons\\\\/\"};\\n/* ]]> */\\n</script>\\n<script type=\\'text/javascript\\' src=\\'https://www.simplycs.in/wp-content/plugins/ultimate-social-media-icons/js/custom.js?ver=5.2.5\\'></script>\\n<script type=\\'text/javascript\\'>\\n/* <![CDATA[ */\\nvar JQLBSettings = {\"fitToScreen\":\"0\",\"resizeSpeed\":\"400\",\"displayDownloadLink\":\"0\",\"navbarOnTop\":\"0\",\"loopImages\":\"\",\"resizeCenter\":\"\",\"marginSize\":\"\",\"linkTarget\":\"\",\"help\":\"\",\"prevLinkTitle\":\"previous image\",\"nextLinkTitle\":\"next image\",\"prevLinkText\":\"\\\\u00ab Previous\",\"nextLinkText\":\"Next \\\\u00bb\",\"closeTitle\":\"close image gallery\",\"image\":\"Image \",\"of\":\" of \",\"download\":\"Download\",\"jqlb_overlay_opacity\":\"80\",\"jqlb_overlay_color\":\"#000000\",\"jqlb_overlay_close\":\"1\",\"jqlb_border_width\":\"10\",\"jqlb_border_color\":\"#ffffff\",\"jqlb_border_radius\":\"0\",\"jqlb_image_info_background_transparency\":\"100\",\"jqlb_image_info_bg_color\":\"#ffffff\",\"jqlb_image_info_text_color\":\"#000000\",\"jqlb_image_info_text_fontsize\":\"10\",\"jqlb_show_text_for_image\":\"1\",\"jqlb_next_image_title\":\"next image\",\"jqlb_previous_image_title\":\"previous image\",\"jqlb_next_button_image\":\"https:\\\\/\\\\/www.simplycs.in\\\\/wp-content\\\\/plugins\\\\/wp-lightbox-2\\\\/styles\\\\/images\\\\/next.gif\",\"jqlb_previous_button_image\":\"https:\\\\/\\\\/www.simplycs.in\\\\/wp-content\\\\/plugins\\\\/wp-lightbox-2\\\\/styles\\\\/images\\\\/prev.gif\",\"jqlb_maximum_width\":\"\",\"jqlb_maximum_height\":\"\",\"jqlb_show_close_button\":\"1\",\"jqlb_close_image_title\":\"close image gallery\",\"jqlb_close_image_max_heght\":\"22\",\"jqlb_image_for_close_lightbox\":\"https:\\\\/\\\\/www.simplycs.in\\\\/wp-content\\\\/plugins\\\\/wp-lightbox-2\\\\/styles\\\\/images\\\\/closelabel.gif\",\"jqlb_keyboard_navigation\":\"1\",\"jqlb_popup_size_fix\":\"0\"};\\n/* ]]> */\\n</script>\\n<script type=\\'text/javascript\\' src=\\'https://www.simplycs.in/wp-content/plugins/wp-lightbox-2/wp-lightbox-2.min.js?ver=1.3.4.1\\'></script>\\n<script type=\\'text/javascript\\' src=\\'https://www.simplycs.in/wp-content/themes/linten/js/skip-link-focus-fix.min.js?ver=20130115\\'></script>\\n<script type=\\'text/javascript\\' src=\\'https://www.simplycs.in/wp-content/themes/linten/third-party/cycle2/js/jquery.cycle2.min.js?ver=2.1.6\\'></script>\\n<script type=\\'text/javascript\\' src=\\'https://www.simplycs.in/wp-content/themes/linten/third-party/sidr/js/jquery.sidr.min.js?ver=2.2.1\\'></script>\\n<script type=\\'text/javascript\\' src=\\'https://www.simplycs.in/wp-content/themes/linten/js/custom.min.js?ver=1.0.4\\'></script>\\n<script type=\\'text/javascript\\' src=\\'https://www.simplycs.in/wp-includes/js/wp-embed.min.js?ver=5.2.5\\'></script>\\n<script type=\\'text/javascript\\'>\\nvar mejsL10n = {\"language\":\"en\",\"strings\":{\"mejs.install-flash\":\"You are using a browser that does not have Flash player enabled or installed. Please turn on your Flash player plugin or download the latest version from https:\\\\/\\\\/get.adobe.com\\\\/flashplayer\\\\/\",\"mejs.fullscreen-off\":\"Turn off Fullscreen\",\"mejs.fullscreen-on\":\"Go Fullscreen\",\"mejs.download-video\":\"Download Video\",\"mejs.fullscreen\":\"Fullscreen\",\"mejs.time-jump-forward\":[\"Jump forward 1 second\",\"Jump forward %1 seconds\"],\"mejs.loop\":\"Toggle Loop\",\"mejs.play\":\"Play\",\"mejs.pause\":\"Pause\",\"mejs.close\":\"Close\",\"mejs.time-slider\":\"Time Slider\",\"mejs.time-help-text\":\"Use Left\\\\/Right Arrow keys to advance one second, Up\\\\/Down arrows to advance ten seconds.\",\"mejs.time-skip-back\":[\"Skip back 1 second\",\"Skip back %1 seconds\"],\"mejs.captions-subtitles\":\"Captions\\\\/Subtitles\",\"mejs.captions-chapters\":\"Chapters\",\"mejs.none\":\"None\",\"mejs.mute-toggle\":\"Mute Toggle\",\"mejs.volume-help-text\":\"Use Up\\\\/Down Arrow keys to increase or decrease volume.\",\"mejs.unmute\":\"Unmute\",\"mejs.mute\":\"Mute\",\"mejs.volume-slider\":\"Volume Slider\",\"mejs.video-player\":\"Video Player\",\"mejs.audio-player\":\"Audio Player\",\"mejs.ad-skip\":\"Skip ad\",\"mejs.ad-skip-info\":[\"Skip in 1 second\",\"Skip in %1 seconds\"],\"mejs.source-chooser\":\"Source Chooser\",\"mejs.stop\":\"Stop\",\"mejs.speed-rate\":\"Speed Rate\",\"mejs.live-broadcast\":\"Live Broadcast\",\"mejs.afrikaans\":\"Afrikaans\",\"mejs.albanian\":\"Albanian\",\"mejs.arabic\":\"Arabic\",\"mejs.belarusian\":\"Belarusian\",\"mejs.bulgarian\":\"Bulgarian\",\"mejs.catalan\":\"Catalan\",\"mejs.chinese\":\"Chinese\",\"mejs.chinese-simplified\":\"Chinese (Simplified)\",\"mejs.chinese-traditional\":\"Chinese (Traditional)\",\"mejs.croatian\":\"Croatian\",\"mejs.czech\":\"Czech\",\"mejs.danish\":\"Danish\",\"mejs.dutch\":\"Dutch\",\"mejs.english\":\"English\",\"mejs.estonian\":\"Estonian\",\"mejs.filipino\":\"Filipino\",\"mejs.finnish\":\"Finnish\",\"mejs.french\":\"French\",\"mejs.galician\":\"Galician\",\"mejs.german\":\"German\",\"mejs.greek\":\"Greek\",\"mejs.haitian-creole\":\"Haitian Creole\",\"mejs.hebrew\":\"Hebrew\",\"mejs.hindi\":\"Hindi\",\"mejs.hungarian\":\"Hungarian\",\"mejs.icelandic\":\"Icelandic\",\"mejs.indonesian\":\"Indonesian\",\"mejs.irish\":\"Irish\",\"mejs.italian\":\"Italian\",\"mejs.japanese\":\"Japanese\",\"mejs.korean\":\"Korean\",\"mejs.latvian\":\"Latvian\",\"mejs.lithuanian\":\"Lithuanian\",\"mejs.macedonian\":\"Macedonian\",\"mejs.malay\":\"Malay\",\"mejs.maltese\":\"Maltese\",\"mejs.norwegian\":\"Norwegian\",\"mejs.persian\":\"Persian\",\"mejs.polish\":\"Polish\",\"mejs.portuguese\":\"Portuguese\",\"mejs.romanian\":\"Romanian\",\"mejs.russian\":\"Russian\",\"mejs.serbian\":\"Serbian\",\"mejs.slovak\":\"Slovak\",\"mejs.slovenian\":\"Slovenian\",\"mejs.spanish\":\"Spanish\",\"mejs.swahili\":\"Swahili\",\"mejs.swedish\":\"Swedish\",\"mejs.tagalog\":\"Tagalog\",\"mejs.thai\":\"Thai\",\"mejs.turkish\":\"Turkish\",\"mejs.ukrainian\":\"Ukrainian\",\"mejs.vietnamese\":\"Vietnamese\",\"mejs.welsh\":\"Welsh\",\"mejs.yiddish\":\"Yiddish\"}};\\n</script>\\n<script type=\\'text/javascript\\' src=\\'https://www.simplycs.in/wp-includes/js/mediaelement/mediaelement-and-player.min.js?ver=4.2.6-78496d1\\'></script>\\n<script type=\\'text/javascript\\' src=\\'https://www.simplycs.in/wp-includes/js/mediaelement/mediaelement-migrate.min.js?ver=5.2.5\\'></script>\\n<script type=\\'text/javascript\\'>\\n/* <![CDATA[ */\\nvar _wpmejsSettings = {\"pluginPath\":\"\\\\/wp-includes\\\\/js\\\\/mediaelement\\\\/\",\"classPrefix\":\"mejs-\",\"stretching\":\"responsive\"};\\n/* ]]> */\\n</script>\\n<script type=\\'text/javascript\\' src=\\'https://www.simplycs.in/wp-includes/js/mediaelement/wp-mediaelement.min.js?ver=5.2.5\\'></script>\\n<script type=\\'text/javascript\\' src=\\'https://www.simplycs.in/wp-includes/js/mediaelement/renderers/vimeo.min.js?ver=4.2.6-78496d1\\'></script>\\n<script type=\\'text/javascript\\' src=\\'https://www.simplycs.in/wp-content/plugins/elementor/assets/js/frontend-modules.min.js?ver=2.9.7\\'></script>\\n<script type=\\'text/javascript\\' src=\\'https://www.simplycs.in/wp-includes/js/jquery/ui/position.min.js?ver=1.11.4\\'></script>\\n<script type=\\'text/javascript\\' src=\\'https://www.simplycs.in/wp-content/plugins/elementor/assets/lib/dialog/dialog.min.js?ver=4.7.6\\'></script>\\n<script type=\\'text/javascript\\' src=\\'https://www.simplycs.in/wp-content/plugins/elementor/assets/lib/waypoints/waypoints.min.js?ver=4.0.2\\'></script>\\n<script type=\\'text/javascript\\' src=\\'https://www.simplycs.in/wp-content/plugins/elementor/assets/lib/swiper/swiper.min.js?ver=5.3.6\\'></script>\\n<script type=\\'text/javascript\\' src=\\'https://www.simplycs.in/wp-content/plugins/elementor/assets/lib/share-link/share-link.min.js?ver=2.9.7\\'></script>\\n<script type=\\'text/javascript\\'>\\nvar elementorFrontendConfig = {\"environmentMode\":{\"edit\":false,\"wpPreview\":false},\"i18n\":{\"shareOnFacebook\":\"Share on Facebook\",\"shareOnTwitter\":\"Share on Twitter\",\"pinIt\":\"Pin it\",\"downloadImage\":\"Download image\"},\"is_rtl\":false,\"breakpoints\":{\"xs\":0,\"sm\":480,\"md\":768,\"lg\":1025,\"xl\":1440,\"xxl\":1600},\"version\":\"2.9.7\",\"urls\":{\"assets\":\"https:\\\\/\\\\/www.simplycs.in\\\\/wp-content\\\\/plugins\\\\/elementor\\\\/assets\\\\/\"},\"settings\":{\"page\":[],\"general\":{\"elementor_global_image_lightbox\":\"yes\",\"elementor_lightbox_enable_counter\":\"yes\",\"elementor_lightbox_enable_fullscreen\":\"yes\",\"elementor_lightbox_enable_zoom\":\"yes\",\"elementor_lightbox_enable_share\":\"yes\",\"elementor_lightbox_title_src\":\"title\",\"elementor_lightbox_description_src\":\"description\"},\"editorPreferences\":[]},\"post\":{\"id\":376,\"title\":\"SimplyCS.in%20%E2%80%93%20Learn%20CS%20Better%20than%20Ever%E2%80%A6%21%21%21\",\"excerpt\":\"\",\"featuredImage\":false}};\\n</script>\\n<script type=\\'text/javascript\\' src=\\'https://www.simplycs.in/wp-content/plugins/elementor/assets/js/frontend.min.js?ver=2.9.7\\'></script>\\n</body>\\n</html>\\n'"
      ]
     },
     "execution_count": 57,
     "metadata": {},
     "output_type": "execute_result"
    }
   ],
   "source": [
    "res1.text\n",
    "# you will get all raw data"
   ]
  },
  {
   "cell_type": "code",
   "execution_count": 58,
   "metadata": {},
   "outputs": [],
   "source": [
    "# create object of Beautiful Soup by passing raw text and format 'lxml'\n",
    "soup1=bs4.BeautifulSoup(res1.text,'lxml')"
   ]
  },
  {
   "cell_type": "code",
   "execution_count": 59,
   "metadata": {},
   "outputs": [
    {
     "data": {
      "text/plain": [
       "bs4.BeautifulSoup"
      ]
     },
     "execution_count": 59,
     "metadata": {},
     "output_type": "execute_result"
    }
   ],
   "source": [
    "type(soup1)"
   ]
  },
  {
   "cell_type": "markdown",
   "metadata": {},
   "source": [
    "#### Extract Title of Website"
   ]
  },
  {
   "cell_type": "code",
   "execution_count": 60,
   "metadata": {},
   "outputs": [],
   "source": [
    "# here you can pass html tags\n",
    "var1=soup1.select('title')"
   ]
  },
  {
   "cell_type": "code",
   "execution_count": 61,
   "metadata": {},
   "outputs": [
    {
     "data": {
      "text/plain": [
       "[<title>SimplyCS.in – Learn CS Better than Ever…!!!</title>]"
      ]
     },
     "execution_count": 61,
     "metadata": {},
     "output_type": "execute_result"
    }
   ],
   "source": [
    "var1"
   ]
  },
  {
   "cell_type": "code",
   "execution_count": 62,
   "metadata": {},
   "outputs": [
    {
     "data": {
      "text/plain": [
       "1"
      ]
     },
     "execution_count": 62,
     "metadata": {},
     "output_type": "execute_result"
    }
   ],
   "source": [
    "len(var1[0])"
   ]
  },
  {
   "cell_type": "code",
   "execution_count": 63,
   "metadata": {},
   "outputs": [
    {
     "data": {
      "text/plain": [
       "'SimplyCS.in – Learn CS Better than Ever…!!!'"
      ]
     },
     "execution_count": 63,
     "metadata": {},
     "output_type": "execute_result"
    }
   ],
   "source": [
    "var1[0].getText()"
   ]
  },
  {
   "cell_type": "markdown",
   "metadata": {},
   "source": [
    "#### Scrap all titles from https://en.wikipedia.org/wiki/Machine_learning"
   ]
  },
  {
   "cell_type": "code",
   "execution_count": 64,
   "metadata": {},
   "outputs": [],
   "source": [
    "res2=requests.get(\"https://en.wikipedia.org/wiki/Machine_learning\") # create object"
   ]
  },
  {
   "cell_type": "code",
   "execution_count": 65,
   "metadata": {},
   "outputs": [
    {
     "data": {
      "text/plain": [
       "requests.models.Response"
      ]
     },
     "execution_count": 65,
     "metadata": {},
     "output_type": "execute_result"
    }
   ],
   "source": [
    "type(res2)"
   ]
  },
  {
   "cell_type": "code",
   "execution_count": 66,
   "metadata": {},
   "outputs": [],
   "source": [
    "# create object of Beautiful Soup by passing raw text and format 'lxml'\n",
    "soup2=bs4.BeautifulSoup(res2.text,'lxml')"
   ]
  },
  {
   "cell_type": "code",
   "execution_count": 67,
   "metadata": {},
   "outputs": [
    {
     "data": {
      "text/plain": [
       "bs4.BeautifulSoup"
      ]
     },
     "execution_count": 67,
     "metadata": {},
     "output_type": "execute_result"
    }
   ],
   "source": [
    "type(soup2)"
   ]
  },
  {
   "cell_type": "code",
   "execution_count": 68,
   "metadata": {},
   "outputs": [],
   "source": [
    "# mw-headline is the class of headline in given page\n",
    "data=soup2.select('.mw-headline')"
   ]
  },
  {
   "cell_type": "code",
   "execution_count": 69,
   "metadata": {},
   "outputs": [
    {
     "name": "stdout",
     "output_type": "stream",
     "text": [
      "Overview\n",
      "Machine learning tasks\n",
      "History and relationships to other fields\n",
      "Relation to data mining\n",
      "Relation to optimization\n",
      "Relation to statistics\n",
      " Theory\n",
      "Approaches\n",
      "Types of learning algorithms\n",
      "Supervised learning\n",
      "Unsupervised learning\n",
      "Reinforcement learning\n",
      "Self learning\n",
      "Feature learning\n",
      "Sparse dictionary learning\n",
      "Anomaly detection\n",
      "Association rules\n",
      "Models\n",
      "Artificial neural networks\n",
      "Decision trees\n",
      "Support vector machines\n",
      "Regression analysis\n",
      "Bayesian networks\n",
      "Genetic algorithms\n",
      "Training models\n",
      "Federated learning\n",
      "Applications\n",
      "Limitations\n",
      "Bias\n",
      "Model assessments\n",
      "Ethics\n",
      "Software\n",
      "Free and open-source software\n",
      "Proprietary software with free and open-source editions\n",
      "Proprietary software\n",
      "Journals\n",
      "Conferences\n",
      "See also\n",
      "References\n",
      "Further reading\n",
      "External links\n"
     ]
    }
   ],
   "source": [
    "for i in data:\n",
    "    print(i.text)"
   ]
  },
  {
   "cell_type": "code",
   "execution_count": 70,
   "metadata": {},
   "outputs": [
    {
     "data": {
      "text/plain": [
       "41"
      ]
     },
     "execution_count": 70,
     "metadata": {},
     "output_type": "execute_result"
    }
   ],
   "source": [
    "len(data)\n",
    "# data is basically array"
   ]
  },
  {
   "cell_type": "markdown",
   "metadata": {},
   "source": [
    "##### Find all Links in the same page"
   ]
  },
  {
   "cell_type": "code",
   "execution_count": 71,
   "metadata": {},
   "outputs": [],
   "source": [
    "res3=requests.get(\"https://www.simplycs.in\") # create object"
   ]
  },
  {
   "cell_type": "code",
   "execution_count": 72,
   "metadata": {},
   "outputs": [],
   "source": [
    "soup3=bs4.BeautifulSoup(res3.text,'lxml')"
   ]
  },
  {
   "cell_type": "code",
   "execution_count": 73,
   "metadata": {},
   "outputs": [
    {
     "name": "stdout",
     "output_type": "stream",
     "text": [
      "#content\n",
      "#mob-menu\n",
      "https://www.simplycs.in/category/c/\n",
      "https://www.simplycs.in/category/learn-c/\n",
      "https://www.simplycs.in/category/data-structure/\n",
      "https://www.simplycs.in/category/java/\n",
      "https://www.simplycs.in/category/net/\n",
      "https://www.simplycs.in/category/database-mysql/\n",
      "https://www.simplycs.in/category/learn-python/\n",
      "https://www.simplycs.in/category/learn-opencart/\n",
      "https://www.simplycs.in/category/learn-data-science/\n",
      "https://www.simplycs.in/category/all/\n",
      "mailto:Email-learnwithsimplycs@gmail.com\n",
      "https://www.simplycs.in/\n",
      "https://www.simplycs.in/\n",
      "#\n",
      "https://www.simplycs.in/category/c/\n",
      "https://www.simplycs.in/category/learn-c/\n",
      "https://www.simplycs.in/category/data-structure/\n",
      "https://www.simplycs.in/category/java/\n",
      "https://www.simplycs.in/category/net/\n",
      "https://www.simplycs.in/category/database-mysql/\n",
      "https://www.simplycs.in/category/learn-python/\n",
      "https://www.simplycs.in/category/learn-opencart/\n",
      "https://www.simplycs.in/category/learn-data-science/\n",
      "https://www.simplycs.in/category/all/\n",
      "https://www.simplycs.in/category/c/\n",
      "https://www.simplycs.in/category/learn-c/\n",
      "https://www.simplycs.in/category/data-structure/\n",
      "https://www.simplycs.in/category/database-mysql/\n",
      "https://www.simplycs.in/category/learn-python/\n",
      "https://www.simplycs.in/elementor-412/\n",
      "https://www.simplycs.in\n",
      "https://www.simplycs.in/elementor-412/\n",
      "https://www.simplycs.in/category/spa/\n",
      "https://www.simplycs.in/category/human-machine-interface/\n",
      "https://www.simplycs.in/category/learn-linux-unix/\n",
      "https://www.simplycs.in/category/rtos/\n",
      "https://www.simplycs.in/sample-page/\n",
      "https://www.simplycs.in/site-map/\n",
      "https://www.simplycs.in/contact-us/\n",
      "https://www.simplycs.in/category/c/\n",
      "https://www.simplycs.in/category/learn-c/\n",
      "https://www.simplycs.in/category/data-structure/\n",
      "https://www.simplycs.in/category/java/\n",
      "https://www.simplycs.in/category/net/\n",
      "https://www.simplycs.in/category/database-mysql/\n",
      "https://www.simplycs.in/category/learn-python/\n",
      "https://www.simplycs.in/category/learn-opencart/\n",
      "https://www.simplycs.in/category/learn-data-science/\n",
      "https://www.simplycs.in/category/all/\n",
      "https://www.simplycs.in/2019/01/12/spa-syllabus-course-hand-out-extra-practical-list-and-lab-manual/\n",
      "https://www.simplycs.in/2019/01/12/spa-syllabus-course-hand-out-extra-practical-list-and-lab-manual/\n",
      "https://www.simplycs.in/2019/01/12/spa-syllabus-course-hand-out-extra-practical-list-and-lab-manual/\n",
      "https://www.simplycs.in/2018/11/17/what-is-virtualization/\n",
      "https://www.simplycs.in/2018/11/17/what-is-virtualization/\n",
      "https://play.google.com/store/apps/details?id=com.wSimplyCS_5757107&hl=en\n",
      "https://www.youtube.com/watch?v=FRb7Y9ArYaM\n",
      "https://www.simplycs.in/2020/02/26/what-is-function-in-c-how-the-function-is-created-how-to-pass-parameters-to-function/\n",
      "https://www.simplycs.in/2020/01/20/how-to-generate-our-own-qr-code-in-python/\n",
      "https://www.simplycs.in/2019/09/04/pmmmnmtt-sponsored-faculty-development-program-on-data-science-using-python-jointly-organized-by-shivaji-university-and-rait-nerul-navi-mumbai/\n",
      "https://www.simplycs.in/2019/04/07/what-is-jmeter/\n",
      "https://www.simplycs.in/2019/03/16/hmi-design-guidlines-gestalt-principals-long-term-memory-vs-short-term-memory/\n",
      "https://www.simplycs.in/2019/03/16/hmi-graphical-user-interface-benefits-of-good-gui-gui-vs-web-ui/\n",
      "https://www.simplycs.in/2019/01/29/hmi-l13-16-users-types-of-users-understanding-users/\n",
      "https://www.simplycs.in/2019/01/27/constructor-in-cpp/\n",
      "https://www.simplycs.in/2019/01/25/lets-begin-by-knowing-what-is-python/\n",
      "https://www.simplycs.in/2019/01/22/human-machine-interaction-software-evolution-process-goal-oriented-design-implementation-model-mental-model/\n",
      "https://www.simplycs.in/2019/04/07/what-is-jmeter/\n",
      "https://www.simplycs.in/2019/09/04/pmmmnmtt-sponsored-faculty-development-program-on-data-science-using-python-jointly-organized-by-shivaji-university-and-rait-nerul-navi-mumbai/\n",
      "https://www.simplycs.in/2020/01/20/how-to-generate-our-own-qr-code-in-python/\n",
      "https://www.simplycs.in/2020/02/26/what-is-function-in-c-how-the-function-is-created-how-to-pass-parameters-to-function/\n",
      "https://www.simplycs.in/2020/02/\n",
      "https://www.simplycs.in/2020/01/\n",
      "https://www.simplycs.in/2019/09/\n",
      "https://www.simplycs.in/2019/04/\n",
      "https://www.simplycs.in/2019/03/\n",
      "https://www.simplycs.in/2019/01/\n",
      "https://www.simplycs.in/2018/12/\n",
      "https://www.simplycs.in/2018/11/\n",
      "https://www.simplycs.in/2018/10/\n",
      "https://www.simplycs.in/2018/09/\n",
      "https://www.simplycs.in/2018/08/\n",
      "https://www.simplycs.in/2018/07/\n",
      "https://www.simplycs.in/2018/06/\n",
      "https://www.simplycs.in/2018/03/\n",
      "https://www.simplycs.in/2018/02/\n",
      "https://www.simplycs.in/2018/01/\n",
      "https://www.simplycs.in/2017/12/\n",
      "https://www.simplycs.in/2017/09/\n",
      "https://www.simplycs.in/2017/08/\n",
      "https://www.simplycs.in/2017/07/\n",
      "https://www.simplycs.in/2017/06/\n",
      "https://www.simplycs.in/2017/01/\n",
      "https://www.simplycs.in\n",
      "https://www.simplycs.in/elementor-412/\n",
      "https://www.simplycs.in/category/spa/\n",
      "https://www.simplycs.in/category/human-machine-interface/\n",
      "https://www.simplycs.in/category/learn-linux-unix/\n",
      "https://www.simplycs.in/category/rtos/\n",
      "https://www.simplycs.in/sample-page/\n",
      "https://www.simplycs.in/site-map/\n",
      "https://www.simplycs.in/contact-us/\n",
      "http://www.extremeitsolutions.in/\n",
      "#page\n"
     ]
    }
   ],
   "source": [
    "for link in soup3.find_all('a',href=True):\n",
    "    print(link['href'])"
   ]
  },
  {
   "cell_type": "code",
   "execution_count": null,
   "metadata": {},
   "outputs": [],
   "source": []
  },
  {
   "cell_type": "code",
   "execution_count": null,
   "metadata": {},
   "outputs": [],
   "source": []
  }
 ],
 "metadata": {
  "kernelspec": {
   "display_name": "Python 3",
   "language": "python",
   "name": "python3"
  },
  "language_info": {
   "codemirror_mode": {
    "name": "ipython",
    "version": 3
   },
   "file_extension": ".py",
   "mimetype": "text/x-python",
   "name": "python",
   "nbconvert_exporter": "python",
   "pygments_lexer": "ipython3",
   "version": "3.6.4"
  }
 },
 "nbformat": 4,
 "nbformat_minor": 2
}
